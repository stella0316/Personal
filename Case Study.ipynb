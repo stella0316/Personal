{
 "cells": [
  {
   "cell_type": "markdown",
   "metadata": {},
   "source": [
    "<b>Name</b>: Stella Sun \n",
    "<br>\n",
    "<b>Email</b>: ss8955@nyu.edu\n",
    "<br>\n",
    "<b>Contact</b>: 585-369-4043"
   ]
  },
  {
   "cell_type": "markdown",
   "metadata": {},
   "source": [
    "This experiment is to test the new design of the \"message button\"; the goal is to improve the discoverbility and the usage of the message feature by members, therefore,I would like to conduct three main steps to illustrate this experiment:\n",
    "<br>\n",
    "<br><b>Step1: Data exploration \n",
    "<br>Step2: Define appropriate metric to evaluate the success\n",
    "<br>Step3: Wrap up experiment results and interprete findings"
   ]
  },
  {
   "cell_type": "code",
   "execution_count": 1,
   "metadata": {
    "collapsed": true
   },
   "outputs": [],
   "source": [
    "import pandas as pd\n",
    "import os\n",
    "from datetime import datetime,date\n",
    "import datetime\n",
    "import seaborn as sns\n",
    "import matplotlib.pyplot as plt\n",
    "%matplotlib inline\n",
    "\n",
    "file_path = os.getcwd()"
   ]
  },
  {
   "cell_type": "markdown",
   "metadata": {},
   "source": [
    "### Step1: EDA(Explotoray Data Analysis)"
   ]
  },
  {
   "cell_type": "markdown",
   "metadata": {},
   "source": [
    "In this step, I would like to explore all data provided, checking duplicates, missing values, outliers and understanding each field"
   ]
  },
  {
   "cell_type": "markdown",
   "metadata": {},
   "source": [
    "#### experiment_subjects table"
   ]
  },
  {
   "cell_type": "code",
   "execution_count": 2,
   "metadata": {
    "collapsed": true
   },
   "outputs": [],
   "source": [
    "subjects_df = pd.read_csv(file_path + '/experiment_subjects.csv')"
   ]
  },
  {
   "cell_type": "code",
   "execution_count": 3,
   "metadata": {},
   "outputs": [
    {
     "data": {
      "text/html": [
       "<div>\n",
       "<table border=\"1\" class=\"dataframe\">\n",
       "  <thead>\n",
       "    <tr style=\"text-align: right;\">\n",
       "      <th></th>\n",
       "      <th>user_id</th>\n",
       "      <th>audience_name</th>\n",
       "      <th>enrolled_at</th>\n",
       "    </tr>\n",
       "  </thead>\n",
       "  <tbody>\n",
       "    <tr>\n",
       "      <th>0</th>\n",
       "      <td>624cf3cb-d23c-4f5d-bbb7-034d9e101576</td>\n",
       "      <td>dark</td>\n",
       "      <td>2017-11-12 16:29:56</td>\n",
       "    </tr>\n",
       "    <tr>\n",
       "      <th>1</th>\n",
       "      <td>703fda1a-d406-42d5-98c1-ddc584da80db</td>\n",
       "      <td>dark</td>\n",
       "      <td>2017-11-14 03:49:57</td>\n",
       "    </tr>\n",
       "    <tr>\n",
       "      <th>2</th>\n",
       "      <td>02a8cc81-7643-49f1-8c34-58c84155c4ab</td>\n",
       "      <td>dark</td>\n",
       "      <td>2017-11-29 17:02:30</td>\n",
       "    </tr>\n",
       "    <tr>\n",
       "      <th>3</th>\n",
       "      <td>8a7b5f34-5283-4f91-ab27-d630fac065b1</td>\n",
       "      <td>dark</td>\n",
       "      <td>2017-11-25 16:17:07</td>\n",
       "    </tr>\n",
       "    <tr>\n",
       "      <th>4</th>\n",
       "      <td>a8dc881e-489e-4414-a281-ea3dc1164628</td>\n",
       "      <td>dark</td>\n",
       "      <td>2017-11-24 19:00:19</td>\n",
       "    </tr>\n",
       "  </tbody>\n",
       "</table>\n",
       "</div>"
      ],
      "text/plain": [
       "                                user_id audience_name          enrolled_at\n",
       "0  624cf3cb-d23c-4f5d-bbb7-034d9e101576          dark  2017-11-12 16:29:56\n",
       "1  703fda1a-d406-42d5-98c1-ddc584da80db          dark  2017-11-14 03:49:57\n",
       "2  02a8cc81-7643-49f1-8c34-58c84155c4ab          dark  2017-11-29 17:02:30\n",
       "3  8a7b5f34-5283-4f91-ab27-d630fac065b1          dark  2017-11-25 16:17:07\n",
       "4  a8dc881e-489e-4414-a281-ea3dc1164628          dark  2017-11-24 19:00:19"
      ]
     },
     "execution_count": 3,
     "metadata": {},
     "output_type": "execute_result"
    }
   ],
   "source": [
    "subjects_df.head()"
   ]
  },
  {
   "cell_type": "code",
   "execution_count": 4,
   "metadata": {},
   "outputs": [
    {
     "data": {
      "text/plain": [
       "user_id           True\n",
       "audience_name    False\n",
       "enrolled_at      False\n",
       "dtype: bool"
      ]
     },
     "execution_count": 4,
     "metadata": {},
     "output_type": "execute_result"
    }
   ],
   "source": [
    "#First check missing values\n",
    "subjects_df.isnull().any()"
   ]
  },
  {
   "cell_type": "code",
   "execution_count": 5,
   "metadata": {},
   "outputs": [
    {
     "data": {
      "text/html": [
       "<div>\n",
       "<table border=\"1\" class=\"dataframe\">\n",
       "  <thead>\n",
       "    <tr style=\"text-align: right;\">\n",
       "      <th></th>\n",
       "      <th>user_id</th>\n",
       "      <th>audience_name</th>\n",
       "      <th>enrolled_at</th>\n",
       "    </tr>\n",
       "  </thead>\n",
       "  <tbody>\n",
       "    <tr>\n",
       "      <th>17335</th>\n",
       "      <td>NaN</td>\n",
       "      <td>dark</td>\n",
       "      <td>2017-11-13 15:45:28</td>\n",
       "    </tr>\n",
       "    <tr>\n",
       "      <th>32506</th>\n",
       "      <td>NaN</td>\n",
       "      <td>light</td>\n",
       "      <td>2017-11-12 16:11:32</td>\n",
       "    </tr>\n",
       "  </tbody>\n",
       "</table>\n",
       "</div>"
      ],
      "text/plain": [
       "      user_id audience_name          enrolled_at\n",
       "17335     NaN          dark  2017-11-13 15:45:28\n",
       "32506     NaN         light  2017-11-12 16:11:32"
      ]
     },
     "execution_count": 5,
     "metadata": {},
     "output_type": "execute_result"
    }
   ],
   "source": [
    "subjects_df[subjects_df['user_id'].isnull() == True]"
   ]
  },
  {
   "cell_type": "code",
   "execution_count": 6,
   "metadata": {
    "collapsed": true
   },
   "outputs": [],
   "source": [
    "subjects_df = subjects_df[subjects_df['user_id'].isnull() == False]"
   ]
  },
  {
   "cell_type": "code",
   "execution_count": 7,
   "metadata": {},
   "outputs": [
    {
     "data": {
      "text/plain": [
       "True"
      ]
     },
     "execution_count": 7,
     "metadata": {},
     "output_type": "execute_result"
    }
   ],
   "source": [
    "#as user_id should be a unique identifier, now check duplicates in user_id column\n",
    "subjects_df['user_id'].duplicated().any()"
   ]
  },
  {
   "cell_type": "code",
   "execution_count": 8,
   "metadata": {},
   "outputs": [
    {
     "data": {
      "text/html": [
       "<div>\n",
       "<table border=\"1\" class=\"dataframe\">\n",
       "  <thead>\n",
       "    <tr style=\"text-align: right;\">\n",
       "      <th></th>\n",
       "      <th>user_id</th>\n",
       "      <th>audience_name</th>\n",
       "      <th>enrolled_at</th>\n",
       "    </tr>\n",
       "  </thead>\n",
       "  <tbody>\n",
       "    <tr>\n",
       "      <th>18000</th>\n",
       "      <td>84be1f44-c3e9-46ab-8ea8-da75339d23c6</td>\n",
       "      <td>light</td>\n",
       "      <td>2017-12-02 00:47:03</td>\n",
       "    </tr>\n",
       "    <tr>\n",
       "      <th>18889</th>\n",
       "      <td>edf46cfd-ed08-44d9-a363-122b6ad38103</td>\n",
       "      <td>light</td>\n",
       "      <td>2017-11-13 14:27:23</td>\n",
       "    </tr>\n",
       "    <tr>\n",
       "      <th>20197</th>\n",
       "      <td>bff9cf7a-fd4b-4ddd-9d65-4c2bf91878c1</td>\n",
       "      <td>light</td>\n",
       "      <td>2017-11-24 02:09:17</td>\n",
       "    </tr>\n",
       "    <tr>\n",
       "      <th>20434</th>\n",
       "      <td>d4a2c5f6-40a9-423a-bb6a-f0ba4eebb62f</td>\n",
       "      <td>light</td>\n",
       "      <td>2017-11-22 19:51:27</td>\n",
       "    </tr>\n",
       "    <tr>\n",
       "      <th>20939</th>\n",
       "      <td>2f9a5c14-a1d8-41ab-9bf2-ce0a699616b5</td>\n",
       "      <td>light</td>\n",
       "      <td>2017-11-28 12:53:33</td>\n",
       "    </tr>\n",
       "    <tr>\n",
       "      <th>21334</th>\n",
       "      <td>52164628-7d3e-4ea2-ad8b-9b927298e7c5</td>\n",
       "      <td>light</td>\n",
       "      <td>2017-11-29 21:55:51</td>\n",
       "    </tr>\n",
       "    <tr>\n",
       "      <th>23933</th>\n",
       "      <td>71eb500e-7af8-4e09-a17e-03c5efe808a8</td>\n",
       "      <td>light</td>\n",
       "      <td>2017-11-30 03:07:09</td>\n",
       "    </tr>\n",
       "    <tr>\n",
       "      <th>24323</th>\n",
       "      <td>2b3fac45-341a-423f-8350-432084921d21</td>\n",
       "      <td>light</td>\n",
       "      <td>2017-11-14 18:39:08</td>\n",
       "    </tr>\n",
       "    <tr>\n",
       "      <th>24553</th>\n",
       "      <td>83d3386f-b800-4373-820e-fb21af095165</td>\n",
       "      <td>light</td>\n",
       "      <td>2017-11-12 22:48:56</td>\n",
       "    </tr>\n",
       "    <tr>\n",
       "      <th>24726</th>\n",
       "      <td>5ef75a7b-cb7e-4935-a971-98f6c4f041ce</td>\n",
       "      <td>light</td>\n",
       "      <td>2017-11-18 14:48:50</td>\n",
       "    </tr>\n",
       "    <tr>\n",
       "      <th>26843</th>\n",
       "      <td>e01789cf-bb9b-4649-8228-ac961b7ea2a9</td>\n",
       "      <td>light</td>\n",
       "      <td>2017-11-30 23:55:34</td>\n",
       "    </tr>\n",
       "    <tr>\n",
       "      <th>27586</th>\n",
       "      <td>465d8713-91d9-41ec-a1c4-8b318fb8ef96</td>\n",
       "      <td>light</td>\n",
       "      <td>2017-12-01 17:21:07</td>\n",
       "    </tr>\n",
       "    <tr>\n",
       "      <th>28046</th>\n",
       "      <td>98c03adc-bd7c-4ebe-bdfc-41d68575e9ca</td>\n",
       "      <td>light</td>\n",
       "      <td>2017-11-26 19:20:10</td>\n",
       "    </tr>\n",
       "    <tr>\n",
       "      <th>29084</th>\n",
       "      <td>a5e2c74f-3be3-4241-aef1-1b3024de07df</td>\n",
       "      <td>light</td>\n",
       "      <td>2017-11-21 17:44:42</td>\n",
       "    </tr>\n",
       "    <tr>\n",
       "      <th>32500</th>\n",
       "      <td>04f8b316-fc38-4507-a208-95d87765d18e</td>\n",
       "      <td>light</td>\n",
       "      <td>2017-11-16 21:13:30</td>\n",
       "    </tr>\n",
       "    <tr>\n",
       "      <th>33020</th>\n",
       "      <td>cf137c37-95a6-4bbc-9453-dad6bfc0a047</td>\n",
       "      <td>light</td>\n",
       "      <td>2017-11-27 17:02:26</td>\n",
       "    </tr>\n",
       "  </tbody>\n",
       "</table>\n",
       "</div>"
      ],
      "text/plain": [
       "                                    user_id audience_name          enrolled_at\n",
       "18000  84be1f44-c3e9-46ab-8ea8-da75339d23c6         light  2017-12-02 00:47:03\n",
       "18889  edf46cfd-ed08-44d9-a363-122b6ad38103         light  2017-11-13 14:27:23\n",
       "20197  bff9cf7a-fd4b-4ddd-9d65-4c2bf91878c1         light  2017-11-24 02:09:17\n",
       "20434  d4a2c5f6-40a9-423a-bb6a-f0ba4eebb62f         light  2017-11-22 19:51:27\n",
       "20939  2f9a5c14-a1d8-41ab-9bf2-ce0a699616b5         light  2017-11-28 12:53:33\n",
       "21334  52164628-7d3e-4ea2-ad8b-9b927298e7c5         light  2017-11-29 21:55:51\n",
       "23933  71eb500e-7af8-4e09-a17e-03c5efe808a8         light  2017-11-30 03:07:09\n",
       "24323  2b3fac45-341a-423f-8350-432084921d21         light  2017-11-14 18:39:08\n",
       "24553  83d3386f-b800-4373-820e-fb21af095165         light  2017-11-12 22:48:56\n",
       "24726  5ef75a7b-cb7e-4935-a971-98f6c4f041ce         light  2017-11-18 14:48:50\n",
       "26843  e01789cf-bb9b-4649-8228-ac961b7ea2a9         light  2017-11-30 23:55:34\n",
       "27586  465d8713-91d9-41ec-a1c4-8b318fb8ef96         light  2017-12-01 17:21:07\n",
       "28046  98c03adc-bd7c-4ebe-bdfc-41d68575e9ca         light  2017-11-26 19:20:10\n",
       "29084  a5e2c74f-3be3-4241-aef1-1b3024de07df         light  2017-11-21 17:44:42\n",
       "32500  04f8b316-fc38-4507-a208-95d87765d18e         light  2017-11-16 21:13:30\n",
       "33020  cf137c37-95a6-4bbc-9453-dad6bfc0a047         light  2017-11-27 17:02:26"
      ]
     },
     "execution_count": 8,
     "metadata": {},
     "output_type": "execute_result"
    }
   ],
   "source": [
    "subjects_df[subjects_df['user_id'].duplicated() == True]"
   ]
  },
  {
   "cell_type": "code",
   "execution_count": 9,
   "metadata": {
    "collapsed": true
   },
   "outputs": [],
   "source": [
    "#remove duplicated user_id\n",
    "subjects_df = subjects_df[subjects_df['user_id'].duplicated() == False]"
   ]
  },
  {
   "cell_type": "code",
   "execution_count": 10,
   "metadata": {},
   "outputs": [
    {
     "name": "stdout",
     "output_type": "stream",
     "text": [
      "No overlap between control and treatment groups, continue\n"
     ]
    }
   ],
   "source": [
    "#As the contral group and treatment group in the experiment should be completely different user group\n",
    "#There shouldn't be any user that appear in both group\n",
    "user_group_overlap = list(set(subjects_df[subjects_df['audience_name'] == 'light']['user_id']) & set(subjects_df[subjects_df['audience_name'] == 'dark']['user_id']))\n",
    "if len(user_group_overlap) == 0:\n",
    "    print(\"No overlap between control and treatment groups, continue\")\n",
    "else:\n",
    "    print(\"overlap userid found, double check\")"
   ]
  },
  {
   "cell_type": "code",
   "execution_count": 11,
   "metadata": {
    "collapsed": true
   },
   "outputs": [],
   "source": [
    "#function to convert string to date\n",
    "def convert_string_to_date(s):\n",
    "    return datetime.datetime.strptime(s,'%Y-%m-%d %H:%M:%S')"
   ]
  },
  {
   "cell_type": "code",
   "execution_count": 12,
   "metadata": {
    "collapsed": true
   },
   "outputs": [],
   "source": [
    "#create a new column to store enroll rate\n",
    "subjects_df['enrolled_date'] = subjects_df['enrolled_at'].apply(lambda x:convert_string_to_date(x).date())"
   ]
  },
  {
   "cell_type": "code",
   "execution_count": 13,
   "metadata": {},
   "outputs": [
    {
     "data": {
      "text/plain": [
       "<matplotlib.text.Text at 0x10212bac8>"
      ]
     },
     "execution_count": 13,
     "metadata": {},
     "output_type": "execute_result"
    },
    {
     "data": {
      "image/png": "[encoded data removed]",
      "text/plain": [
       "<matplotlib.figure.Figure at 0x1085c59e8>"
      ]
     },
     "metadata": {},
     "output_type": "display_data"
    }
   ],
   "source": [
    "#plot user enrollment date\n",
    "plt.figure(figsize=(10,4))\n",
    "g = sns.barplot(x=subjects_df['enrolled_date'].value_counts().sort_index().index.tolist(), y=subjects_df['enrolled_date'].value_counts().sort_index().values.tolist(), palette=\"rocket\")\n",
    "g.set_xticklabels(g.get_xticklabels(),rotation=30)\n",
    "plt.title(\"User Enrollment Date Distribution\")\n",
    "plt.xlabel(\"Enroll Date\")\n",
    "plt.ylabel(\"# of users\")"
   ]
  },
  {
   "cell_type": "code",
   "execution_count": 14,
   "metadata": {},
   "outputs": [
    {
     "data": {
      "text/plain": [
       "<matplotlib.text.Text at 0x1103d3208>"
      ]
     },
     "execution_count": 14,
     "metadata": {},
     "output_type": "execute_result"
    },
    {
     "data": {
      "image/png": "[encoded data removed]",
      "text/plain": [
       "<matplotlib.figure.Figure at 0x10985f240>"
      ]
     },
     "metadata": {},
     "output_type": "display_data"
    }
   ],
   "source": [
    "#plot audience group \n",
    "plt.figure(figsize=(10,4))\n",
    "sns.barplot(x=subjects_df['audience_name'].value_counts().index.tolist(), y=subjects_df['audience_name'].value_counts().values.tolist(), palette=\"rocket\")\n",
    "plt.title(\"Control - Treament Group Distribution\")\n",
    "plt.xlabel(\"Control vs. Treatment\")\n",
    "plt.ylabel(\"Sample Size\")"
   ]
  },
  {
   "cell_type": "code",
   "execution_count": 16,
   "metadata": {},
   "outputs": [
    {
     "name": "stdout",
     "output_type": "stream",
     "text": [
      "Total number of valid users in the experiment:34935\n"
     ]
    }
   ],
   "source": [
    "print(\"Total number of valid users in the experiment:{}\".format(subjects_df.shape[0]))"
   ]
  },
  {
   "cell_type": "markdown",
   "metadata": {},
   "source": [
    "#### experiment_action table"
   ]
  },
  {
   "cell_type": "code",
   "execution_count": 17,
   "metadata": {
    "collapsed": true
   },
   "outputs": [],
   "source": [
    "action_df = pd.read_csv(file_path + '/experiment_actions.csv')"
   ]
  },
  {
   "cell_type": "code",
   "execution_count": 18,
   "metadata": {},
   "outputs": [
    {
     "data": {
      "text/html": [
       "<div>\n",
       "<table border=\"1\" class=\"dataframe\">\n",
       "  <thead>\n",
       "    <tr style=\"text-align: right;\">\n",
       "      <th></th>\n",
       "      <th>user_id</th>\n",
       "      <th>action</th>\n",
       "      <th>new_thread</th>\n",
       "      <th>timestamp</th>\n",
       "    </tr>\n",
       "  </thead>\n",
       "  <tbody>\n",
       "    <tr>\n",
       "      <th>0</th>\n",
       "      <td>24bd5271-63f5-42ec-adc7-9663084076b9</td>\n",
       "      <td>Sent Message</td>\n",
       "      <td>False</td>\n",
       "      <td>2017-11-27 22:49:25</td>\n",
       "    </tr>\n",
       "    <tr>\n",
       "      <th>1</th>\n",
       "      <td>230e4564-068d-4f84-addd-04a0df8398d9</td>\n",
       "      <td>Sent Message</td>\n",
       "      <td>True</td>\n",
       "      <td>2017-12-02 15:34:22</td>\n",
       "    </tr>\n",
       "    <tr>\n",
       "      <th>2</th>\n",
       "      <td>f4aa80b4-877d-470e-a9a6-8828e371c0fe</td>\n",
       "      <td>Sent Message</td>\n",
       "      <td>True</td>\n",
       "      <td>2017-11-09 22:50:51</td>\n",
       "    </tr>\n",
       "    <tr>\n",
       "      <th>3</th>\n",
       "      <td>3b6486b6-54e8-442d-a6e5-b1b6399e67d6</td>\n",
       "      <td>Sent Message</td>\n",
       "      <td>False</td>\n",
       "      <td>2017-12-01 21:50:11</td>\n",
       "    </tr>\n",
       "    <tr>\n",
       "      <th>4</th>\n",
       "      <td>56075c0d-cc29-46c3-9013-b265fb10a83e</td>\n",
       "      <td>Sent Message</td>\n",
       "      <td>True</td>\n",
       "      <td>2017-11-03 22:22:03</td>\n",
       "    </tr>\n",
       "  </tbody>\n",
       "</table>\n",
       "</div>"
      ],
      "text/plain": [
       "                                user_id        action new_thread  \\\n",
       "0  24bd5271-63f5-42ec-adc7-9663084076b9  Sent Message      False   \n",
       "1  230e4564-068d-4f84-addd-04a0df8398d9  Sent Message       True   \n",
       "2  f4aa80b4-877d-470e-a9a6-8828e371c0fe  Sent Message       True   \n",
       "3  3b6486b6-54e8-442d-a6e5-b1b6399e67d6  Sent Message      False   \n",
       "4  56075c0d-cc29-46c3-9013-b265fb10a83e  Sent Message       True   \n",
       "\n",
       "             timestamp  \n",
       "0  2017-11-27 22:49:25  \n",
       "1  2017-12-02 15:34:22  \n",
       "2  2017-11-09 22:50:51  \n",
       "3  2017-12-01 21:50:11  \n",
       "4  2017-11-03 22:22:03  "
      ]
     },
     "execution_count": 18,
     "metadata": {},
     "output_type": "execute_result"
    }
   ],
   "source": [
    "action_df.head()"
   ]
  },
  {
   "cell_type": "code",
   "execution_count": 19,
   "metadata": {},
   "outputs": [
    {
     "data": {
      "text/plain": [
       "user_id       False\n",
       "action        False\n",
       "new_thread     True\n",
       "timestamp     False\n",
       "dtype: bool"
      ]
     },
     "execution_count": 19,
     "metadata": {},
     "output_type": "execute_result"
    }
   ],
   "source": [
    "action_df.isnull().any()"
   ]
  },
  {
   "cell_type": "code",
   "execution_count": 20,
   "metadata": {},
   "outputs": [
    {
     "data": {
      "text/plain": [
       "<matplotlib.text.Text at 0x110542128>"
      ]
     },
     "execution_count": 20,
     "metadata": {},
     "output_type": "execute_result"
    },
    {
     "data": {
      "image/png": "[encoded data removed]",
      "text/plain": [
       "<matplotlib.figure.Figure at 0x109209630>"
      ]
     },
     "metadata": {},
     "output_type": "display_data"
    }
   ],
   "source": [
    "action_df['action_date'] = action_df['timestamp'].apply(lambda x:convert_string_to_date(x).date())\n",
    "#plot user enrollment date to find outlier\n",
    "plt.figure(figsize=(12,4))\n",
    "g = sns.barplot(x=action_df['action_date'].value_counts().sort_index().index.tolist(), y=action_df['action_date'].value_counts().sort_index().values.tolist(), palette=\"rocket\")\n",
    "g.set_xticklabels(g.get_xticklabels(),rotation=30)\n",
    "plt.title(\"User Action Date Distribution\")\n",
    "plt.xlabel(\"Action Date\")\n",
    "plt.ylabel(\"# of actions\")"
   ]
  },
  {
   "cell_type": "code",
   "execution_count": 21,
   "metadata": {},
   "outputs": [
    {
     "data": {
      "text/html": [
       "<div>\n",
       "<table border=\"1\" class=\"dataframe\">\n",
       "  <thead>\n",
       "    <tr style=\"text-align: right;\">\n",
       "      <th></th>\n",
       "      <th>user_id</th>\n",
       "      <th>action</th>\n",
       "      <th>new_thread</th>\n",
       "      <th>timestamp</th>\n",
       "      <th>action_date</th>\n",
       "    </tr>\n",
       "  </thead>\n",
       "  <tbody>\n",
       "    <tr>\n",
       "      <th>30916</th>\n",
       "      <td>e956f013-e5a9-4fe9-a273-25a20c469f86</td>\n",
       "      <td>Viewed Messaging Inbox</td>\n",
       "      <td>NaN</td>\n",
       "      <td>2017-06-28 15:18:17</td>\n",
       "      <td>2017-06-28</td>\n",
       "    </tr>\n",
       "    <tr>\n",
       "      <th>65724</th>\n",
       "      <td>e956f013-e5a9-4fe9-a273-25a20c469f86</td>\n",
       "      <td>Clicked Messaging Button</td>\n",
       "      <td>NaN</td>\n",
       "      <td>2017-06-28 15:18:17</td>\n",
       "      <td>2017-06-28</td>\n",
       "    </tr>\n",
       "  </tbody>\n",
       "</table>\n",
       "</div>"
      ],
      "text/plain": [
       "                                    user_id                    action  \\\n",
       "30916  e956f013-e5a9-4fe9-a273-25a20c469f86    Viewed Messaging Inbox   \n",
       "65724  e956f013-e5a9-4fe9-a273-25a20c469f86  Clicked Messaging Button   \n",
       "\n",
       "      new_thread            timestamp action_date  \n",
       "30916        NaN  2017-06-28 15:18:17  2017-06-28  \n",
       "65724        NaN  2017-06-28 15:18:17  2017-06-28  "
      ]
     },
     "execution_count": 21,
     "metadata": {},
     "output_type": "execute_result"
    }
   ],
   "source": [
    "action_df[action_df['action_date'] == date(2017, 6, 28)]"
   ]
  },
  {
   "cell_type": "code",
   "execution_count": 22,
   "metadata": {
    "collapsed": true
   },
   "outputs": [],
   "source": [
    "#this user seems to be inactive for a long time, so I just removed this user from our table\n",
    "action_df = action_df[action_df['user_id'] != 'e956f013-e5a9-4fe9-a273-25a20c469f86']"
   ]
  },
  {
   "cell_type": "markdown",
   "metadata": {},
   "source": [
    "#### messaging table"
   ]
  },
  {
   "cell_type": "code",
   "execution_count": 23,
   "metadata": {
    "collapsed": true
   },
   "outputs": [],
   "source": [
    "msg_df = pd.read_csv(file_path + '/messaging_db.csv')"
   ]
  },
  {
   "cell_type": "code",
   "execution_count": 24,
   "metadata": {},
   "outputs": [
    {
     "data": {
      "text/html": [
       "<div>\n",
       "<table border=\"1\" class=\"dataframe\">\n",
       "  <thead>\n",
       "    <tr style=\"text-align: right;\">\n",
       "      <th></th>\n",
       "      <th>message_id</th>\n",
       "      <th>thread_id</th>\n",
       "      <th>sender_type</th>\n",
       "      <th>timestamp</th>\n",
       "      <th>sender_user_id</th>\n",
       "      <th>recipient_user_id</th>\n",
       "    </tr>\n",
       "  </thead>\n",
       "  <tbody>\n",
       "    <tr>\n",
       "      <th>0</th>\n",
       "      <td>543222</td>\n",
       "      <td>298451</td>\n",
       "      <td>2</td>\n",
       "      <td>2017-01-09 15:09:59</td>\n",
       "      <td>b066b37c-068e-40de-9572-9236b649b3fa</td>\n",
       "      <td>NaN</td>\n",
       "    </tr>\n",
       "    <tr>\n",
       "      <th>1</th>\n",
       "      <td>554596</td>\n",
       "      <td>303060</td>\n",
       "      <td>2</td>\n",
       "      <td>2017-01-16 13:06:01</td>\n",
       "      <td>8c3fe977-3072-4a7b-832f-4f292b900a9c</td>\n",
       "      <td>NaN</td>\n",
       "    </tr>\n",
       "    <tr>\n",
       "      <th>2</th>\n",
       "      <td>555211</td>\n",
       "      <td>302648</td>\n",
       "      <td>2</td>\n",
       "      <td>2017-01-16 17:11:26</td>\n",
       "      <td>e7e9c755-d511-4b42-87be-27d5ff60bcc6</td>\n",
       "      <td>NaN</td>\n",
       "    </tr>\n",
       "    <tr>\n",
       "      <th>3</th>\n",
       "      <td>560082</td>\n",
       "      <td>303964</td>\n",
       "      <td>2</td>\n",
       "      <td>2017-01-19 01:16:00</td>\n",
       "      <td>6c3c8563-17cb-416a-b330-ac3d3378a876</td>\n",
       "      <td>NaN</td>\n",
       "    </tr>\n",
       "    <tr>\n",
       "      <th>4</th>\n",
       "      <td>567459</td>\n",
       "      <td>307121</td>\n",
       "      <td>2</td>\n",
       "      <td>2017-01-24 22:13:14</td>\n",
       "      <td>f62ba5e6-65f5-40a2-9b9b-e074c1a37fb9</td>\n",
       "      <td>NaN</td>\n",
       "    </tr>\n",
       "  </tbody>\n",
       "</table>\n",
       "</div>"
      ],
      "text/plain": [
       "   message_id  thread_id  sender_type            timestamp  \\\n",
       "0      543222     298451            2  2017-01-09 15:09:59   \n",
       "1      554596     303060            2  2017-01-16 13:06:01   \n",
       "2      555211     302648            2  2017-01-16 17:11:26   \n",
       "3      560082     303964            2  2017-01-19 01:16:00   \n",
       "4      567459     307121            2  2017-01-24 22:13:14   \n",
       "\n",
       "                         sender_user_id recipient_user_id  \n",
       "0  b066b37c-068e-40de-9572-9236b649b3fa               NaN  \n",
       "1  8c3fe977-3072-4a7b-832f-4f292b900a9c               NaN  \n",
       "2  e7e9c755-d511-4b42-87be-27d5ff60bcc6               NaN  \n",
       "3  6c3c8563-17cb-416a-b330-ac3d3378a876               NaN  \n",
       "4  f62ba5e6-65f5-40a2-9b9b-e074c1a37fb9               NaN  "
      ]
     },
     "execution_count": 24,
     "metadata": {},
     "output_type": "execute_result"
    }
   ],
   "source": [
    "msg_df.head()"
   ]
  },
  {
   "cell_type": "code",
   "execution_count": 25,
   "metadata": {},
   "outputs": [
    {
     "data": {
      "text/plain": [
       "False"
      ]
     },
     "execution_count": 25,
     "metadata": {},
     "output_type": "execute_result"
    }
   ],
   "source": [
    "msg_df['message_id'].duplicated().any()"
   ]
  },
  {
   "cell_type": "code",
   "execution_count": 26,
   "metadata": {
    "collapsed": true
   },
   "outputs": [],
   "source": [
    "msg_df['action_date'] = msg_df['timestamp'].apply(lambda x: convert_string_to_date(x).date())"
   ]
  },
  {
   "cell_type": "code",
   "execution_count": 28,
   "metadata": {},
   "outputs": [
    {
     "name": "stderr",
     "output_type": "stream",
     "text": [
      "/Users/Stella/miniconda3/lib/python3.6/site-packages/ipykernel_launcher.py:3: SettingWithCopyWarning: \n",
      "A value is trying to be set on a copy of a slice from a DataFrame.\n",
      "Try using .loc[row_indexer,col_indexer] = value instead\n",
      "\n",
      "See the caveats in the documentation: http://pandas.pydata.org/pandas-docs/stable/indexing.html#indexing-view-versus-copy\n",
      "  This is separate from the ipykernel package so we can avoid doing imports until\n"
     ]
    },
    {
     "data": {
      "text/plain": [
       "<matplotlib.text.Text at 0x1a1a6b87b8>"
      ]
     },
     "execution_count": 28,
     "metadata": {},
     "output_type": "execute_result"
    },
    {
     "data": {
      "image/png": "[encoded data removed]",
      "text/plain": [
       "<matplotlib.figure.Figure at 0x1a16e690f0>"
      ]
     },
     "metadata": {},
     "output_type": "display_data"
    }
   ],
   "source": [
    "#analyze on the msg activities before experiment\n",
    "msg_df_old = msg_df[msg_df['action_date'] < date(2017,11,12)]\n",
    "msg_df_old['Month'] = msg_df_old['action_date'].apply(lambda x: x.month)\n",
    "\n",
    "#plot to see the trend\n",
    "plt.figure(figsize=(12,4))\n",
    "sns.barplot(x=msg_df_old['Month'].value_counts().sort_index().index.tolist()[:10], y=msg_df_old['Month'].value_counts().sort_index().values.tolist()[:10], palette=\"rocket\")\n",
    "g.set_xticklabels(g.get_xticklabels(),rotation=30)\n",
    "plt.title(\"Messaging Activity Monthly Distribution\")\n",
    "plt.xlabel(\"Month\")\n",
    "plt.ylabel(\"# of messages\")"
   ]
  },
  {
   "cell_type": "code",
   "execution_count": 29,
   "metadata": {},
   "outputs": [
    {
     "data": {
      "text/plain": [
       "<matplotlib.text.Text at 0x1a1a71a278>"
      ]
     },
     "execution_count": 29,
     "metadata": {},
     "output_type": "execute_result"
    },
    {
     "data": {
      "image/png": "[encoded data removed]",
      "text/plain": [
       "<matplotlib.figure.Figure at 0x1a16fdda20>"
      ]
     },
     "metadata": {},
     "output_type": "display_data"
    }
   ],
   "source": [
    "#plot type\n",
    "plt.figure(figsize=(10,4))\n",
    "sns.barplot(x=msg_df_old['sender_type'].value_counts().index.tolist(), y=msg_df_old['sender_type'].value_counts().value_counts().values.tolist(), palette=\"rocket\")\n",
    "plt.title(\"Message Type\")\n",
    "plt.xlabel(\"Sent by Oscar Employee vs. Sent by User\")\n",
    "plt.ylabel(\"# of messages\")"
   ]
  },
  {
   "cell_type": "code",
   "execution_count": 30,
   "metadata": {
    "collapsed": true
   },
   "outputs": [],
   "source": [
    "msg_count_distribution = msg_df_old.groupby(['sender_user_id'])['message_id'].count().reset_index().rename(columns = {'message_id':'msg_count'}).groupby(['msg_count'])['sender_user_id'].count()"
   ]
  },
  {
   "cell_type": "code",
   "execution_count": 31,
   "metadata": {},
   "outputs": [
    {
     "data": {
      "text/plain": [
       "<matplotlib.text.Text at 0x1a18f09e48>"
      ]
     },
     "execution_count": 31,
     "metadata": {},
     "output_type": "execute_result"
    },
    {
     "data": {
      "image/png": "[encoded data removed]",
      "text/plain": [
       "<matplotlib.figure.Figure at 0x1a18e267b8>"
      ]
     },
     "metadata": {},
     "output_type": "display_data"
    }
   ],
   "source": [
    "#plot to see the trend\n",
    "#only plot the top 50 #msg sent since it is a long right tail distribution\n",
    "plt.figure(figsize=(15,4))\n",
    "sns.barplot(x=msg_count_distribution.index.tolist()[:35], y=msg_count_distribution.values.tolist()[:35], palette=\"rocket\")\n",
    "plt.title(\"Distribution of # of Message Sent by User\")\n",
    "plt.xlabel(\"# msg sent\")\n",
    "plt.ylabel(\"# of users\")"
   ]
  },
  {
   "cell_type": "markdown",
   "metadata": {},
   "source": [
    "### Summary:"
   ]
  },
  {
   "cell_type": "markdown",
   "metadata": {},
   "source": [
    "1. There are null values and duplicated user_id in the dataset, so I dropped those values.\n",
    "2. No overlap between two audience group; # of users are almost evenly split(dark: 17413; light: 17522)\n",
    "3. In experiment_action table, null values in 'new_thread' column happened when action = 'Clicked Messaging Button' or'Viewed Messaging Inbox'; so there is nothing to do with the null value here;\n",
    "4. There is one user who is enrolled in the experiment on 2017-11-29 but the user's actions were tracked only on 2017-06-28; I assume this user to be inactive for a long time, so I removed this user from our experiment.\n",
    "5. Our users were enrolled between 2017-11-12 and 2017-12-05; experiment actions were tracked between 2017-11-01 and 2017-12-06;\n",
    "6. It is clear that we have control/treament group of users entrolled at different date, which makes it harder to control the date variable. Therefore, to truly test the difference between the two audience group, I would choose a pair of group users who enrolled on the same date\n",
    "7. Before the experiment starts, the monthly trend for # of msg sent has a peak on Octobor, January the second;\n",
    "8. If we look at the distribution of #msg sent, we could see that most users send 1 msg"
   ]
  },
  {
   "cell_type": "markdown",
   "metadata": {},
   "source": [
    "## Step 2: Define Evaluating Metric"
   ]
  },
  {
   "cell_type": "markdown",
   "metadata": {},
   "source": [
    "There are two things we want to measure here: Discoverbility and Usage;\n",
    "<br><b>Discoverbility</b> could be meassured as: \n",
    "1. #of users who clicked on the button/total users;\n",
    "2. #of users who sent at least 1 msg;\n",
    "3. #of users who sent at least 1 msg/#of users who clicked on the button;\n",
    "\n",
    "<br><b>Usage</b> coule be measured as:\n",
    "1. average number of msg sent to Oscar employee;\n",
    "2. average number of msg received by users;\n"
   ]
  },
  {
   "cell_type": "markdown",
   "metadata": {},
   "source": [
    "### Understand User behaviors"
   ]
  },
  {
   "cell_type": "code",
   "execution_count": 32,
   "metadata": {
    "collapsed": true
   },
   "outputs": [],
   "source": [
    "df = subjects_df.merge(action_df,on = 'user_id',how = 'inner')\n",
    "df['new_thread'] = df['new_thread'].replace([True,False],[1,0]).fillna(0)"
   ]
  },
  {
   "cell_type": "code",
   "execution_count": 33,
   "metadata": {
    "collapsed": true
   },
   "outputs": [],
   "source": [
    "#pick two cohort groups\n",
    "cohort_1 = df[df['enrolled_date'] == date(2017,11,13)]\n",
    "cohort_2 = df[df['enrolled_date'] == date(2017,11,14)]\n",
    "\n",
    "temp1 = cohort_1.groupby(['audience_name','action_date','action'])['user_id'].nunique().reset_index()\n",
    "temp1['Day_Count'] = temp1['action_date'].apply(lambda x: (x - date(2017,11,13)).days)\n",
    "\n",
    "temp2 = cohort_2.groupby(['audience_name','action_date','action'])['user_id'].nunique().reset_index()\n",
    "temp2['Day_Count'] = temp2['action_date'].apply(lambda x: (x - date(2017,11,14)).days)"
   ]
  },
  {
   "cell_type": "code",
   "execution_count": 34,
   "metadata": {},
   "outputs": [
    {
     "data": {
      "text/plain": [
       "<matplotlib.text.Text at 0x1a1921f5f8>"
      ]
     },
     "execution_count": 34,
     "metadata": {},
     "output_type": "execute_result"
    },
    {
     "data": {
      "image/png": "[encoded data removed]",
      "text/plain": [
       "<matplotlib.figure.Figure at 0x1a16e578d0>"
      ]
     },
     "metadata": {},
     "output_type": "display_data"
    }
   ],
   "source": [
    "plt.figure(figsize=(15,6))\n",
    "sns.barplot(x='Day_Count', y='user_id', hue = 'action',palette=\"rocket\",data = temp1[temp1['audience_name'] == 'light'])\n",
    "plt.title(\"# User Actions and After Experiment - Cohort Group 2017-11-13 -- Treatment Group\")\n",
    "plt.xlabel(\"# Days After Experiment\")\n",
    "plt.ylabel(\"# Actions\")"
   ]
  },
  {
   "cell_type": "code",
   "execution_count": 35,
   "metadata": {},
   "outputs": [
    {
     "data": {
      "text/plain": [
       "<matplotlib.text.Text at 0x1a17b38ef0>"
      ]
     },
     "execution_count": 35,
     "metadata": {},
     "output_type": "execute_result"
    },
    {
     "data": {
      "image/png": "[encoded data removed]",
      "text/plain": [
       "<matplotlib.figure.Figure at 0x1a194a4358>"
      ]
     },
     "metadata": {},
     "output_type": "display_data"
    }
   ],
   "source": [
    "plt.figure(figsize=(15,6))\n",
    "sns.barplot(x='Day_Count', y='user_id', hue = 'action',palette=\"rocket\",data = temp1[temp1['audience_name'] == 'dark'])\n",
    "plt.title(\"# User Actions and After Experiment - Cohort Group 2017-11-13 -- Control Group\")\n",
    "plt.xlabel(\"# Days After Experiment\")\n",
    "plt.ylabel(\"# Actions\")"
   ]
  },
  {
   "cell_type": "code",
   "execution_count": 36,
   "metadata": {
    "collapsed": true
   },
   "outputs": [],
   "source": [
    "temp1['Cohort_Group'] = '2017-11-13'\n",
    "temp2['Cohort_Group'] = '2017-11-14'\n",
    "temp = temp1.append(temp2)"
   ]
  },
  {
   "cell_type": "code",
   "execution_count": 37,
   "metadata": {},
   "outputs": [
    {
     "data": {
      "text/plain": [
       "<matplotlib.text.Text at 0x1a1bf13e10>"
      ]
     },
     "execution_count": 37,
     "metadata": {},
     "output_type": "execute_result"
    },
    {
     "data": {
      "image/png": "[encoded data removed]",
      "text/plain": [
       "<matplotlib.figure.Figure at 0x1a19dae080>"
      ]
     },
     "metadata": {},
     "output_type": "display_data"
    }
   ],
   "source": [
    "plt.figure(figsize=(15,6))\n",
    "sns.pointplot(x='Day_Count', y='user_id', hue = 'Cohort_Group', palette=\"rocket\",data = temp[temp['action'] == 'Clicked Messaging Button'])\n",
    "plt.title(\"Two Cohort Groups Comparison\")\n",
    "plt.xlabel(\"# Days After Experiment\")\n",
    "plt.ylabel(\"# Users who Clicked Messaging Button\")"
   ]
  },
  {
   "cell_type": "markdown",
   "metadata": {},
   "source": [
    "#### Extract Sample"
   ]
  },
  {
   "cell_type": "code",
   "execution_count": 38,
   "metadata": {
    "collapsed": true
   },
   "outputs": [],
   "source": [
    "df_msg = subjects_df.merge(msg_df,left_on = 'user_id',right_on = 'sender_user_id',how = 'inner')\n",
    "df_msg = df_msg[df_msg['recipient_user_id'].isnull() == True]"
   ]
  },
  {
   "cell_type": "code",
   "execution_count": 39,
   "metadata": {
    "collapsed": true
   },
   "outputs": [],
   "source": [
    "#extract users who enrolled from 2017-11-12 to 2017-11-30\n",
    "#and only extract action data within 7 days after the experiement starts for each group\n",
    "cohort_group_range = [date(2017,11,12) + datetime.timedelta(days=x) for x in range(0, 19)]\n",
    "action_group_range = [x + datetime.timedelta(days=6) for x in cohort_group_range]"
   ]
  },
  {
   "cell_type": "code",
   "execution_count": 40,
   "metadata": {
    "collapsed": true
   },
   "outputs": [],
   "source": [
    "def extract_sample(cohort_group_range,action_group_range,df):\n",
    "    result_df = pd.DataFrame()\n",
    "    for i, date in enumerate(cohort_group_range):\n",
    "        temp_df = df[(df['enrolled_date'] == date) & ((df['action_date'] >= date) & (df['action_date'] <= action_group_range[i]))]\n",
    "        result_df = result_df.append(temp_df)\n",
    "        \n",
    "    return result_df"
   ]
  },
  {
   "cell_type": "code",
   "execution_count": 41,
   "metadata": {
    "collapsed": true
   },
   "outputs": [],
   "source": [
    "user_action_sample = extract_sample(cohort_group_range,action_group_range,df)\n",
    "user_msg_sample = extract_sample(cohort_group_range,action_group_range,df_msg)"
   ]
  },
  {
   "cell_type": "code",
   "execution_count": 62,
   "metadata": {},
   "outputs": [
    {
     "data": {
      "text/plain": [
       "light    12987\n",
       "dark     12904\n",
       "Name: audience_name, dtype: int64"
      ]
     },
     "execution_count": 62,
     "metadata": {},
     "output_type": "execute_result"
    }
   ],
   "source": [
    "#check sample size\n",
    "user_sample = subjects_df[(subjects_df['enrolled_date'] >= date(2017,11,12)) & (subjects_df['enrolled_date'] <= date(2017,11,30))]\n",
    "user_sample['audience_name'].value_counts()"
   ]
  },
  {
   "cell_type": "markdown",
   "metadata": {},
   "source": [
    "#### Discoverbility"
   ]
  },
  {
   "cell_type": "code",
   "execution_count": 43,
   "metadata": {},
   "outputs": [
    {
     "data": {
      "text/plain": [
       "audience_name  action                  \n",
       "dark           Clicked Messaging Button    2836\n",
       "               Sent Message                1191\n",
       "light          Clicked Messaging Button    2489\n",
       "               Sent Message                1468\n",
       "Name: user_id, dtype: int64"
      ]
     },
     "execution_count": 43,
     "metadata": {},
     "output_type": "execute_result"
    }
   ],
   "source": [
    "user_action_sample[user_action_sample['action'].isin(['Clicked Messaging Button','Sent Message'])].groupby(['audience_name','action'])['user_id'].nunique()"
   ]
  },
  {
   "cell_type": "code",
   "execution_count": 104,
   "metadata": {},
   "outputs": [
    {
     "data": {
      "text/plain": [
       "audience_name  action                  \n",
       "dark           Clicked Messaging Button    5209\n",
       "               Sent Message                2246\n",
       "light          Clicked Messaging Button    4787\n",
       "               Sent Message                2518\n",
       "Name: user_id, dtype: int64"
      ]
     },
     "execution_count": 104,
     "metadata": {},
     "output_type": "execute_result"
    }
   ],
   "source": [
    "user_action_sample[user_action_sample['action'].isin(['Clicked Messaging Button','Sent Message'])].groupby(['audience_name','action'])['user_id'].count()"
   ]
  },
  {
   "cell_type": "markdown",
   "metadata": {},
   "source": [
    "#### Usage"
   ]
  },
  {
   "cell_type": "code",
   "execution_count": 44,
   "metadata": {},
   "outputs": [
    {
     "data": {
      "text/plain": [
       "audience_name\n",
       "dark     3482\n",
       "light    3833\n",
       "Name: message_id, dtype: int64"
      ]
     },
     "execution_count": 44,
     "metadata": {},
     "output_type": "execute_result"
    }
   ],
   "source": [
    "user_msg_sample.groupby(['audience_name'])['message_id'].count()"
   ]
  },
  {
   "cell_type": "code",
   "execution_count": 45,
   "metadata": {},
   "outputs": [
    {
     "data": {
      "text/plain": [
       "audience_name\n",
       "dark     1633\n",
       "light    1881\n",
       "Name: user_id, dtype: int64"
      ]
     },
     "execution_count": 45,
     "metadata": {},
     "output_type": "execute_result"
    }
   ],
   "source": [
    "user_msg_sample.groupby(['audience_name'])['user_id'].nunique()"
   ]
  },
  {
   "cell_type": "code",
   "execution_count": 46,
   "metadata": {
    "collapsed": true
   },
   "outputs": [],
   "source": [
    "user_rec_msg = subjects_df.merge(msg_df,left_on = 'user_id',right_on = 'recipient_user_id',how = 'inner')\n",
    "user_rec_msg = user_rec_msg[user_rec_msg['sender_user_id'].isnull() == True]\n",
    "user_rec_msg_sample = extract_sample(cohort_group_range,action_group_range,user_rec_msg)"
   ]
  },
  {
   "cell_type": "code",
   "execution_count": 47,
   "metadata": {},
   "outputs": [
    {
     "data": {
      "text/plain": [
       "audience_name\n",
       "dark     3633\n",
       "light    3875\n",
       "Name: message_id, dtype: int64"
      ]
     },
     "execution_count": 47,
     "metadata": {},
     "output_type": "execute_result"
    }
   ],
   "source": [
    "user_rec_msg_sample.groupby(['audience_name'])['message_id'].count()"
   ]
  },
  {
   "cell_type": "code",
   "execution_count": 48,
   "metadata": {},
   "outputs": [
    {
     "data": {
      "text/plain": [
       "audience_name\n",
       "dark     6824\n",
       "light    7144\n",
       "Name: user_id, dtype: int64"
      ]
     },
     "execution_count": 48,
     "metadata": {},
     "output_type": "execute_result"
    }
   ],
   "source": [
    "user_rec_msg.groupby(['audience_name'])['user_id'].nunique()"
   ]
  },
  {
   "cell_type": "markdown",
   "metadata": {},
   "source": [
    "### Step3: Analyze Experiment Result"
   ]
  },
  {
   "cell_type": "code",
   "execution_count": 89,
   "metadata": {
    "collapsed": true
   },
   "outputs": [],
   "source": [
    "from scipy.stats import ttest_ind, ttest_ind_from_stats\n",
    "from scipy.special import stdtr\n",
    "import math\n",
    "import scipy.stats as stats\n",
    "import numpy as np\n",
    "from statsmodels.stats.proportion import proportions_ztest\n",
    "from statsmodels.stats import weightstats as stests"
   ]
  },
  {
   "cell_type": "markdown",
   "metadata": {},
   "source": [
    "#### Compare % users who clicked on the button "
   ]
  },
  {
   "cell_type": "code",
   "execution_count": 105,
   "metadata": {},
   "outputs": [
    {
     "name": "stdout",
     "output_type": "stream",
     "text": [
      " z-stat = 5.47227382864236 \n",
      " p-value = 4.442976060284203e-08\n"
     ]
    }
   ],
   "source": [
    "z,p = proportions_ztest([2836,2497],[12904,12987], value=0, alternative='two-sided')\n",
    "print(' z-stat = {z} \\n p-value = {p}'.format(z=z,p=p))"
   ]
  },
  {
   "cell_type": "markdown",
   "metadata": {},
   "source": [
    "#### Compare % users who sent msg"
   ]
  },
  {
   "cell_type": "code",
   "execution_count": 106,
   "metadata": {},
   "outputs": [
    {
     "name": "stdout",
     "output_type": "stream",
     "text": [
      " z-stat = -5.574332089183345 \n",
      " p-value = 2.48481336353396e-08\n"
     ]
    }
   ],
   "source": [
    "z,p = proportions_ztest([1191,1472],[12904,12987], value=0, alternative='two-sided')\n",
    "print(' z-stat = {z} \\n p-value = {p}'.format(z=z,p=p))"
   ]
  },
  {
   "cell_type": "markdown",
   "metadata": {},
   "source": [
    "#### Compare average button clicked & average msg sent"
   ]
  },
  {
   "cell_type": "code",
   "execution_count": 95,
   "metadata": {},
   "outputs": [
    {
     "name": "stdout",
     "output_type": "stream",
     "text": [
      "Compare average Clicked Messaging Button\n",
      "z-stat = 2.571062720572423 \n",
      "p-value = 0.010138696314012513\n",
      "\n",
      "\n",
      "Compare average Sent Message\n",
      "z-stat = -2.1957966368771835 \n",
      "p-value = 0.028106502497347502\n",
      "\n",
      "\n"
     ]
    }
   ],
   "source": [
    "actions = ['Clicked Messaging Button','Sent Message']\n",
    "for action in actions:\n",
    "    df1 = user_action_sample[user_action_sample['action'] == action].groupby(['user_id','audience_name']).size().reset_index(name='counts')\n",
    "    df2 = user_sample[['user_id','audience_name']].merge(df1[['user_id','counts']],on='user_id',how = 'left').fillna(0)\n",
    "    control = df2[df2['audience_name'] == 'dark']['counts']\n",
    "    treatment = df2[df2['audience_name'] == 'light']['counts']\n",
    "    print(\"Compare average {}\".format(action))\n",
    "    ztest ,pval1 = stests.ztest(control, x2 = treatment,value = 0, alternative='two-sided')\n",
    "    print(\"z-stat = {z} \\np-value = {p}\".format(z = ztest, p = pval1))\n",
    "    print(\"\\n\")"
   ]
  },
  {
   "cell_type": "markdown",
   "metadata": {},
   "source": [
    "#### Compare % users who sent at least one msg"
   ]
  },
  {
   "cell_type": "code",
   "execution_count": 68,
   "metadata": {},
   "outputs": [
    {
     "name": "stdout",
     "output_type": "stream",
     "text": [
      " z-stat = -4.365989887387325 \n",
      " p-value = 1.265483345066895e-05\n"
     ]
    }
   ],
   "source": [
    "z,p = proportions_ztest([1633,1885],[12904,12987], value=0, alternative='two-sided')\n",
    "print(' z-stat = {z} \\n p-value = {p}'.format(z=z,p=p))"
   ]
  },
  {
   "cell_type": "markdown",
   "metadata": {
    "collapsed": true
   },
   "source": [
    "#### Compare % useres who received at least one msg"
   ]
  },
  {
   "cell_type": "code",
   "execution_count": 67,
   "metadata": {},
   "outputs": [
    {
     "name": "stdout",
     "output_type": "stream",
     "text": [
      " z-stat = -3.5561326190046385 \n",
      " p-value = 0.00037635414876300644\n"
     ]
    }
   ],
   "source": [
    "z,p = proportions_ztest([6824,7154],[12904,12987], value=0, alternative='two-sided')\n",
    "print(' z-stat = {z} \\n p-value = {p}'.format(z=z,p=p))"
   ]
  },
  {
   "cell_type": "markdown",
   "metadata": {},
   "source": [
    "#### Compare average msg sent & average received "
   ]
  },
  {
   "cell_type": "code",
   "execution_count": 103,
   "metadata": {},
   "outputs": [
    {
     "name": "stdout",
     "output_type": "stream",
     "text": [
      "z-stat = -1.9817702512230913 \n",
      "p-value = 0.047504960439290325\n",
      "\n",
      "\n",
      "z-stat = -1.630071827315069 \n",
      "p-value = 0.10308631719008234\n",
      "\n",
      "\n"
     ]
    }
   ],
   "source": [
    "msg_df = [user_msg_sample,user_rec_msg_sample]\n",
    "for df in msg_df:\n",
    "    df1 = df.groupby(['user_id']).size().reset_index(name='counts')\n",
    "    df2 = user_sample[['user_id','audience_name']].merge(df1[['user_id','counts']],on='user_id',how = 'left').fillna(0)\n",
    "    control = df2[df2['audience_name'] == 'dark']['counts']\n",
    "    treatment = df2[df2['audience_name'] == 'light']['counts']\n",
    "\n",
    "    ztest ,pval1 = stests.ztest(control, x2 = treatment,value = 0, alternative='two-sided')\n",
    "    print(\"z-stat = {z} \\np-value = {p}\".format(z = ztest, p = pval1))\n",
    "    print(\"\\n\")\n"
   ]
  },
  {
   "cell_type": "code",
   "execution_count": null,
   "metadata": {
    "collapsed": true
   },
   "outputs": [],
   "source": []
  }
 ],
 "metadata": {
  "kernelspec": {
   "display_name": "Python 3",
   "language": "python",
   "name": "python3"
  },
  "language_info": {
   "codemirror_mode": {
    "name": "ipython",
    "version": 3
   },
   "file_extension": ".py",
   "mimetype": "text/x-python",
   "name": "python",
   "nbconvert_exporter": "python",
   "pygments_lexer": "ipython3",
   "version": "3.6.8"
  }
 },
 "nbformat": 4,
 "nbformat_minor": 2
}
