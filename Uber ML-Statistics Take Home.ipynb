{
 "cells": [
  {
   "cell_type": "code",
   "execution_count": 1,
   "metadata": {
    "collapsed": true
   },
   "outputs": [],
   "source": [
    "import json\n",
    "import pandas as pd\n",
    "from datetime import timedelta\n",
    "import datetime\n",
    "import matplotlib.pyplot as plt\n",
    "import seaborn as sns\n",
    "import numpy as np\n",
    "from collections import OrderedDict\n",
    "from itertools import chain, repeat\n",
    "%matplotlib inline"
   ]
  },
  {
   "cell_type": "markdown",
   "metadata": {},
   "source": [
    "### Part 1: Data Analyst"
   ]
  },
  {
   "cell_type": "markdown",
   "metadata": {},
   "source": [
    "1. The attached logins.json file contains (simulated) timestamps of user logins in a\n",
    "particular geographic location. Aggregate these login counts based on 15-minute time\n",
    "intervals, and visualize and describe the resulting time series of login counts in ways that\n",
    "best characterize the underlying patterns of the demand. Please report/illustrate\n",
    "important features of the demand, such as daily cycles. If there are data quality issues,\n",
    "please report them. We’re looking for people who can “tell the data story:” use empirical\n",
    "evidence to make product decisions and develop effective decision systems."
   ]
  },
  {
   "cell_type": "markdown",
   "metadata": {},
   "source": [
    "#### Step 1: Load json data and create pandas dataframe"
   ]
  },
  {
   "cell_type": "code",
   "execution_count": 2,
   "metadata": {
    "collapsed": true
   },
   "outputs": [],
   "source": [
    "json_data=open('logins2.json').read()\n",
    "data = json.loads(json_data)"
   ]
  },
  {
   "cell_type": "code",
   "execution_count": 3,
   "metadata": {},
   "outputs": [
    {
     "data": {
      "text/plain": [
       "dict_keys(['login_time'])"
      ]
     },
     "execution_count": 3,
     "metadata": {},
     "output_type": "execute_result"
    }
   ],
   "source": [
    "data.keys()"
   ]
  },
  {
   "cell_type": "code",
   "execution_count": 4,
   "metadata": {
    "collapsed": true
   },
   "outputs": [],
   "source": [
    "data_pairs = list(zip([i.split()[0] for i in data['login_time']],[i.split()[1] for i in data['login_time']]))\n",
    "df = pd.DataFrame(data_pairs,columns=['Date','Time'])"
   ]
  },
  {
   "cell_type": "code",
   "execution_count": 5,
   "metadata": {},
   "outputs": [
    {
     "data": {
      "text/plain": [
       "True"
      ]
     },
     "execution_count": 5,
     "metadata": {},
     "output_type": "execute_result"
    }
   ],
   "source": [
    "#check if there is missing rows when creating dataframe\n",
    "len(data['login_time']) == len(df)"
   ]
  },
  {
   "cell_type": "code",
   "execution_count": 6,
   "metadata": {},
   "outputs": [
    {
     "data": {
      "text/html": [
       "<div>\n",
       "<table border=\"1\" class=\"dataframe\">\n",
       "  <thead>\n",
       "    <tr style=\"text-align: right;\">\n",
       "      <th></th>\n",
       "      <th>Date</th>\n",
       "      <th>Time</th>\n",
       "    </tr>\n",
       "  </thead>\n",
       "  <tbody>\n",
       "    <tr>\n",
       "      <th>0</th>\n",
       "      <td>2010-01-01</td>\n",
       "      <td>00:11:52</td>\n",
       "    </tr>\n",
       "    <tr>\n",
       "      <th>1</th>\n",
       "      <td>2010-01-01</td>\n",
       "      <td>00:13:00</td>\n",
       "    </tr>\n",
       "    <tr>\n",
       "      <th>2</th>\n",
       "      <td>2010-01-01</td>\n",
       "      <td>00:14:49</td>\n",
       "    </tr>\n",
       "    <tr>\n",
       "      <th>3</th>\n",
       "      <td>2010-01-01</td>\n",
       "      <td>00:21:00</td>\n",
       "    </tr>\n",
       "    <tr>\n",
       "      <th>4</th>\n",
       "      <td>2010-01-01</td>\n",
       "      <td>00:23:05</td>\n",
       "    </tr>\n",
       "  </tbody>\n",
       "</table>\n",
       "</div>"
      ],
      "text/plain": [
       "         Date      Time\n",
       "0  2010-01-01  00:11:52\n",
       "1  2010-01-01  00:13:00\n",
       "2  2010-01-01  00:14:49\n",
       "3  2010-01-01  00:21:00\n",
       "4  2010-01-01  00:23:05"
      ]
     },
     "execution_count": 6,
     "metadata": {},
     "output_type": "execute_result"
    }
   ],
   "source": [
    "df.head()"
   ]
  },
  {
   "cell_type": "code",
   "execution_count": 7,
   "metadata": {},
   "outputs": [
    {
     "data": {
      "text/plain": [
       "False"
      ]
     },
     "execution_count": 7,
     "metadata": {},
     "output_type": "execute_result"
    }
   ],
   "source": [
    "df.duplicated().any()"
   ]
  },
  {
   "cell_type": "markdown",
   "metadata": {},
   "source": [
    "#### Step 2: Data clean and transformation"
   ]
  },
  {
   "cell_type": "code",
   "execution_count": 74,
   "metadata": {
    "collapsed": true
   },
   "outputs": [],
   "source": [
    "range_15_min = pd.date_range(\"00:00\", \"23:59\", freq=\"15min\").strftime('%H:%M:%S')"
   ]
  },
  {
   "cell_type": "code",
   "execution_count": 77,
   "metadata": {
    "collapsed": true
   },
   "outputs": [],
   "source": [
    "#create 15min interval \n",
    "interval_15_min = []\n",
    "for i in range(len(range_15_min)-1):\n",
    "    interval_15_min.append((range_15_min[i],range_15_min[i+1]))\n",
    "interval_15_min.append((range_15_min[-1],'23:59:59'))"
   ]
  },
  {
   "cell_type": "code",
   "execution_count": 10,
   "metadata": {
    "collapsed": true
   },
   "outputs": [],
   "source": [
    "def string_to_time(s):\n",
    "    return datetime.datetime.strptime(s, '%H:%M:%S').time()"
   ]
  },
  {
   "cell_type": "code",
   "execution_count": 11,
   "metadata": {
    "collapsed": true
   },
   "outputs": [],
   "source": [
    "def string_to_date(s):\n",
    "    return datetime.datetime.strptime(s, '%Y-%m-%d').date()"
   ]
  },
  {
   "cell_type": "code",
   "execution_count": 88,
   "metadata": {
    "collapsed": true
   },
   "outputs": [],
   "source": [
    "#given a login time, return the 15min interval\n",
    "def calculate_login_interval(login_time,interval_list):\n",
    "    login = string_to_time(login_time)\n",
    "    if login != string_to_time('00:00:00'):\n",
    "        for range_ in interval_list:\n",
    "            low = string_to_time(range_[0])\n",
    "            high = string_to_time(range_[1])\n",
    "            if login > low and login <= high:\n",
    "                return range_\n",
    "    else:\n",
    "        return interval_list[0]"
   ]
  },
  {
   "cell_type": "code",
   "execution_count": 89,
   "metadata": {
    "collapsed": true
   },
   "outputs": [],
   "source": [
    "df['15_min_interval'] = df['Time'].apply(lambda x:calculate_login_interval(x,interval_15_min))"
   ]
  },
  {
   "cell_type": "code",
   "execution_count": 91,
   "metadata": {},
   "outputs": [
    {
     "data": {
      "text/html": [
       "<div>\n",
       "<table border=\"1\" class=\"dataframe\">\n",
       "  <thead>\n",
       "    <tr style=\"text-align: right;\">\n",
       "      <th></th>\n",
       "      <th>Date</th>\n",
       "      <th>Time</th>\n",
       "      <th>15_min_interval</th>\n",
       "      <th>Day_of_Week</th>\n",
       "      <th>Month</th>\n",
       "    </tr>\n",
       "  </thead>\n",
       "  <tbody>\n",
       "    <tr>\n",
       "      <th>0</th>\n",
       "      <td>2010-01-01</td>\n",
       "      <td>00:11:52</td>\n",
       "      <td>(00:00:00, 00:15:00)</td>\n",
       "      <td>4</td>\n",
       "      <td>1</td>\n",
       "    </tr>\n",
       "    <tr>\n",
       "      <th>1</th>\n",
       "      <td>2010-01-01</td>\n",
       "      <td>00:13:00</td>\n",
       "      <td>(00:00:00, 00:15:00)</td>\n",
       "      <td>4</td>\n",
       "      <td>1</td>\n",
       "    </tr>\n",
       "    <tr>\n",
       "      <th>2</th>\n",
       "      <td>2010-01-01</td>\n",
       "      <td>00:14:49</td>\n",
       "      <td>(00:00:00, 00:15:00)</td>\n",
       "      <td>4</td>\n",
       "      <td>1</td>\n",
       "    </tr>\n",
       "    <tr>\n",
       "      <th>3</th>\n",
       "      <td>2010-01-01</td>\n",
       "      <td>00:21:00</td>\n",
       "      <td>(00:15:00, 00:30:00)</td>\n",
       "      <td>4</td>\n",
       "      <td>1</td>\n",
       "    </tr>\n",
       "    <tr>\n",
       "      <th>4</th>\n",
       "      <td>2010-01-01</td>\n",
       "      <td>00:23:05</td>\n",
       "      <td>(00:15:00, 00:30:00)</td>\n",
       "      <td>4</td>\n",
       "      <td>1</td>\n",
       "    </tr>\n",
       "  </tbody>\n",
       "</table>\n",
       "</div>"
      ],
      "text/plain": [
       "         Date      Time       15_min_interval  Day_of_Week  Month\n",
       "0  2010-01-01  00:11:52  (00:00:00, 00:15:00)            4      1\n",
       "1  2010-01-01  00:13:00  (00:00:00, 00:15:00)            4      1\n",
       "2  2010-01-01  00:14:49  (00:00:00, 00:15:00)            4      1\n",
       "3  2010-01-01  00:21:00  (00:15:00, 00:30:00)            4      1\n",
       "4  2010-01-01  00:23:05  (00:15:00, 00:30:00)            4      1"
      ]
     },
     "execution_count": 91,
     "metadata": {},
     "output_type": "execute_result"
    }
   ],
   "source": [
    "df.head()"
   ]
  },
  {
   "cell_type": "code",
   "execution_count": 14,
   "metadata": {
    "collapsed": true
   },
   "outputs": [],
   "source": [
    "#Monday is 0; Sunday is 6\n",
    "df['Day_of_Week'] = df['Date'].apply(lambda x: string_to_date(x).weekday())"
   ]
  },
  {
   "cell_type": "code",
   "execution_count": 15,
   "metadata": {
    "collapsed": true
   },
   "outputs": [],
   "source": [
    "#Get the month number to check seasonality\n",
    "df['Month'] = df['Date'].apply(lambda x:string_to_date(x).month)"
   ]
  },
  {
   "cell_type": "markdown",
   "metadata": {},
   "source": [
    "#### Step 3: Visualization"
   ]
  },
  {
   "cell_type": "markdown",
   "metadata": {},
   "source": [
    "Daily Trend"
   ]
  },
  {
   "cell_type": "code",
   "execution_count": 92,
   "metadata": {},
   "outputs": [
    {
     "data": {
      "text/plain": [
       "<matplotlib.axes._subplots.AxesSubplot at 0x10ca215c0>"
      ]
     },
     "execution_count": 92,
     "metadata": {},
     "output_type": "execute_result"
    },
    {
     "data": {
      "image/png": "[encoded data removed]",
      "text/plain": [
       "<matplotlib.figure.Figure at 0x10ca21080>"
      ]
     },
     "metadata": {},
     "output_type": "display_data"
    }
   ],
   "source": [
    "df_by_day = df['Date'].value_counts().rename_axis('time_interval').sort_index()\n",
    "df_by_day.plot(figsize=(15, 6),title=\"login_counts by day\")"
   ]
  },
  {
   "cell_type": "code",
   "execution_count": 93,
   "metadata": {
    "collapsed": true
   },
   "outputs": [],
   "source": [
    "#delete data points on 2010-08-28\n",
    "df2 = df[df['Date'] != '2010-08-28']"
   ]
  },
  {
   "cell_type": "markdown",
   "metadata": {},
   "source": [
    "Weekly Trend"
   ]
  },
  {
   "cell_type": "code",
   "execution_count": 94,
   "metadata": {},
   "outputs": [
    {
     "data": {
      "image/png": "[encoded data removed]",
      "text/plain": [
       "<matplotlib.figure.Figure at 0x1a111fde10>"
      ]
     },
     "metadata": {},
     "output_type": "display_data"
    }
   ],
   "source": [
    "df2['Day_of_Week'].hist(bins=14,figsize=(15, 6))\n",
    "plt.title('login counts by Day of Week')\n",
    "plt.ylabel(\"login counts\")\n",
    "plt.xlabel(\"Day of Week(Monday = 0; Sunday = 6)\")\n",
    "plt.grid(False)\n"
   ]
  },
  {
   "cell_type": "code",
   "execution_count": 95,
   "metadata": {
    "collapsed": true
   },
   "outputs": [],
   "source": [
    "df2['Day_of_Week'].value_counts().rename_axis('Day_of_Week').reset_index(name='count').to_csv(r'day_of_week.csv',index=False)"
   ]
  },
  {
   "cell_type": "markdown",
   "metadata": {},
   "source": [
    "Monthly Trend"
   ]
  },
  {
   "cell_type": "code",
   "execution_count": 96,
   "metadata": {},
   "outputs": [
    {
     "data": {
      "image/png": "[encoded data removed]",
      "text/plain": [
       "<matplotlib.figure.Figure at 0x1a111ed518>"
      ]
     },
     "metadata": {},
     "output_type": "display_data"
    }
   ],
   "source": [
    "df2[df2['Month'] != 8]['Month'].hist(bins=14,figsize=(15, 6))\n",
    "plt.title('login counts by month')\n",
    "plt.ylabel(\"login counts\")\n",
    "plt.xlabel(\"Month\")\n",
    "plt.grid(False)"
   ]
  },
  {
   "cell_type": "markdown",
   "metadata": {},
   "source": [
    "15-min interval plot"
   ]
  },
  {
   "cell_type": "code",
   "execution_count": 97,
   "metadata": {},
   "outputs": [
    {
     "data": {
      "image/png": "[encoded data removed]",
      "text/plain": [
       "<matplotlib.figure.Figure at 0x1a1f0b34e0>"
      ]
     },
     "metadata": {},
     "output_type": "display_data"
    }
   ],
   "source": [
    "df_vis = df2['15_min_interval'].value_counts().rename_axis('time_interval').sort_index()\n",
    "df_vis.plot(figsize=(15, 6),title=\"login_counts by 15min interval\")\n",
    "plt.ylabel(\"login counts\")\n",
    "plt.xticks(rotation=45)\n",
    "plt.grid(True)"
   ]
  },
  {
   "cell_type": "markdown",
   "metadata": {},
   "source": [
    "Replace the irregular points with the average number"
   ]
  },
  {
   "cell_type": "code",
   "execution_count": 98,
   "metadata": {
    "collapsed": true
   },
   "outputs": [],
   "source": [
    "irregular_points = ['2010-02-01','2010-02-02','2010-02-03','2010-02-04','2010-02-05','2010-02-06','2010-03-01',\n",
    "                    '2010-03-02','2010-03-03','2010-03-04','2010-03-05','2010-03-06','2010-03-07','2010-05-30',\n",
    "                    '2010-05-31','2010-06-01','2010-06-02','2010-07-03','2010-07-04','2010-07-05','2010-08-02',\n",
    "                    '2010-08-03','2010-08-04']"
   ]
  },
  {
   "cell_type": "code",
   "execution_count": 229,
   "metadata": {
    "collapsed": true
   },
   "outputs": [],
   "source": [
    "dff = df2[~df2['Date'].isin(irregular_points)]['15_min_interval'].value_counts().rename_axis('15_min_interval').sort_index().reset_index(name='count')\n",
    "dff['mean'] = dff['count'].apply(lambda x: round(x/len(df2['Date'].unique())))"
   ]
  },
  {
   "cell_type": "code",
   "execution_count": 261,
   "metadata": {},
   "outputs": [
    {
     "data": {
      "text/html": [
       "<div>\n",
       "<table border=\"1\" class=\"dataframe\">\n",
       "  <thead>\n",
       "    <tr style=\"text-align: right;\">\n",
       "      <th></th>\n",
       "      <th>15_min_interval</th>\n",
       "      <th>count</th>\n",
       "      <th>mean</th>\n",
       "    </tr>\n",
       "  </thead>\n",
       "  <tbody>\n",
       "    <tr>\n",
       "      <th>0</th>\n",
       "      <td>(00:00:00, 00:15:00)</td>\n",
       "      <td>1013</td>\n",
       "      <td>4</td>\n",
       "    </tr>\n",
       "    <tr>\n",
       "      <th>1</th>\n",
       "      <td>(00:15:00, 00:30:00)</td>\n",
       "      <td>921</td>\n",
       "      <td>4</td>\n",
       "    </tr>\n",
       "    <tr>\n",
       "      <th>2</th>\n",
       "      <td>(00:30:00, 00:45:00)</td>\n",
       "      <td>831</td>\n",
       "      <td>3</td>\n",
       "    </tr>\n",
       "    <tr>\n",
       "      <th>3</th>\n",
       "      <td>(00:45:00, 01:00:00)</td>\n",
       "      <td>798</td>\n",
       "      <td>3</td>\n",
       "    </tr>\n",
       "    <tr>\n",
       "      <th>4</th>\n",
       "      <td>(01:00:00, 01:15:00)</td>\n",
       "      <td>722</td>\n",
       "      <td>3</td>\n",
       "    </tr>\n",
       "  </tbody>\n",
       "</table>\n",
       "</div>"
      ],
      "text/plain": [
       "        15_min_interval  count  mean\n",
       "0  (00:00:00, 00:15:00)   1013     4\n",
       "1  (00:15:00, 00:30:00)    921     4\n",
       "2  (00:30:00, 00:45:00)    831     3\n",
       "3  (00:45:00, 01:00:00)    798     3\n",
       "4  (01:00:00, 01:15:00)    722     3"
      ]
     },
     "execution_count": 261,
     "metadata": {},
     "output_type": "execute_result"
    }
   ],
   "source": [
    "dff.head()"
   ]
  },
  {
   "cell_type": "code",
   "execution_count": 237,
   "metadata": {
    "collapsed": true
   },
   "outputs": [],
   "source": [
    "df3 = df2[~df2['Date'].isin(irregular_points)].groupby(['Date','15_min_interval']).count().reset_index().rename(columns={'Time':'Count'})[['Date','15_min_interval','Count']]"
   ]
  },
  {
   "cell_type": "code",
   "execution_count": 235,
   "metadata": {
    "collapsed": true
   },
   "outputs": [],
   "source": [
    "replace_df = pd.DataFrame(OrderedDict({'Date':list(chain.from_iterable(zip(*repeat(irregular_points, len(dff))))), '15_min_interval': list(dff['15_min_interval']) * len(irregular_points),'Count':list(dff['mean']) * len(irregular_points)}))"
   ]
  },
  {
   "cell_type": "code",
   "execution_count": 390,
   "metadata": {
    "collapsed": true
   },
   "outputs": [],
   "source": [
    "df4 = df3.append(replace_df).sort_values(by=['Date','15_min_interval'])"
   ]
  },
  {
   "cell_type": "code",
   "execution_count": 391,
   "metadata": {},
   "outputs": [
    {
     "data": {
      "image/png": "[encoded data removed]",
      "text/plain": [
       "<matplotlib.figure.Figure at 0x1a241936d8>"
      ]
     },
     "metadata": {},
     "output_type": "display_data"
    }
   ],
   "source": [
    "df_vis_2 = df4.groupby(['15_min_interval'])['Count'].sum().rename_axis('time_interval').sort_index()\n",
    "df_vis_2.plot(figsize=(15, 6),title=\"login_counts by 15min interval(replace irregular points with avg)\")\n",
    "plt.ylabel(\"login counts\")\n",
    "plt.xticks(rotation=45)\n",
    "plt.grid(True)"
   ]
  },
  {
   "cell_type": "code",
   "execution_count": 392,
   "metadata": {
    "collapsed": true
   },
   "outputs": [],
   "source": [
    "df4['Month'] = df4['Date'].apply(lambda x:string_to_date(x).month)"
   ]
  },
  {
   "cell_type": "code",
   "execution_count": 393,
   "metadata": {},
   "outputs": [
    {
     "data": {
      "image/png": "[encoded data removed]",
      "text/plain": [
       "<matplotlib.figure.Figure at 0x1a1e8190f0>"
      ]
     },
     "metadata": {},
     "output_type": "display_data"
    }
   ],
   "source": [
    "df4[df4['Month'] != 8]['Month'].hist(bins=14,figsize=(15, 6))\n",
    "plt.title('login counts by month')\n",
    "plt.ylabel(\"login counts\")\n",
    "plt.xlabel(\"Month\")\n",
    "plt.grid(False)"
   ]
  },
  {
   "cell_type": "markdown",
   "metadata": {},
   "source": [
    "After replacing the irregular points with the average, we could see that, Feb and March total logins are much close to the other months. "
   ]
  },
  {
   "cell_type": "markdown",
   "metadata": {},
   "source": [
    "#### Step 3: Feature Engineering"
   ]
  },
  {
   "cell_type": "markdown",
   "metadata": {},
   "source": [
    "To generate more features, I added the following features based on the insights from the previous data analysis:\n",
    "1. 15_min_interval_count: which 15-min interval is the current time, starting from 00:00 midnight.\n",
    "2. Morning_Rush_Hour: binary feature indicating if the current time is in the morning rush hours or not (5:00 AM - 9:30 AM).\n",
    "3. Evening_Rush_Hour: binary feature indicating if the current time is in the evening rush hours or not (4:00 PM - 8:00 PM).\n",
    "\n",
    "A general idea for modeling is to separate the time periods into 5 models:\n",
    "1. Between 00:00 to 5:00 AM, a linear regression model is used when the demand is decreasing linearly\n",
    "2. Between 5:00 AM to 9:30 AM, a second linear regression model is used when the demand is increasing linearly\n",
    "3. Between 9:30 AM to 4:00 PM, the demand is bounded by some values.\n",
    "4. From 4:00 PM to 8:00 PM, a third linear regression model is used when demand is increasing during the evening rush hour.\n",
    "5. From 8:00 PM to 24:00, the last linear regression model is used when demand is decreasing again."
   ]
  },
  {
   "cell_type": "code",
   "execution_count": 342,
   "metadata": {
    "collapsed": true
   },
   "outputs": [],
   "source": [
    "#given a login time, return the 15min interval\n",
    "def calculate_login_interval_count(login_time):\n",
    "    login = string_to_time(login_time)\n",
    "    return login_time - datetime()\n",
    "\n",
    "def morning_rush_hour(time_interval):\n",
    "    low = string_to_time(time_interval[0])\n",
    "    high= string_to_time(time_interval[1])\n",
    "    if low >= string_to_time('05:00:00') and high <= string_to_time('09:30:00'):\n",
    "        return 1\n",
    "    else:\n",
    "        return 0\n",
    "    \n",
    "def evening_rush_hour(time_interval):\n",
    "    low = string_to_time(time_interval[0])\n",
    "    high= string_to_time(time_interval[1])\n",
    "    if low >= string_to_time('16:00:00') and high <= string_to_time('20:00:00'):\n",
    "        return 1\n",
    "    else:\n",
    "        return 0\n",
    "\n",
    "def first_linear(time_interval):\n",
    "    low = string_to_time(time_interval[0])\n",
    "    high= string_to_time(time_interval[1])\n",
    "    if low >= string_to_time('00:00:00') and high <= string_to_time('05:00:00'):\n",
    "        return 1\n",
    "    else:\n",
    "        return 0\n",
    "    \n",
    "def third_model(time_interval):\n",
    "    low = string_to_time(time_interval[0])\n",
    "    high= string_to_time(time_interval[1])\n",
    "    if low >= string_to_time('09:30:00') and high <= string_to_time('16:00:00'):\n",
    "        return 1\n",
    "    else:\n",
    "        return 0\n",
    "\n",
    "def last_model(time_interval):\n",
    "    low = string_to_time(time_interval[0])\n",
    "    high= string_to_time(time_interval[1])\n",
    "    if low >= string_to_time('20:00:00') and high <= string_to_time('23:59:59'):\n",
    "        return 1\n",
    "    else:\n",
    "        return 0"
   ]
  },
  {
   "cell_type": "code",
   "execution_count": 394,
   "metadata": {
    "collapsed": true
   },
   "outputs": [],
   "source": [
    "df4['15_min_interval_count'] = df4['15_min_interval'].apply(lambda x: interval_15_min.index(x)+1)"
   ]
  },
  {
   "cell_type": "code",
   "execution_count": 395,
   "metadata": {
    "collapsed": true
   },
   "outputs": [],
   "source": [
    "df4['Morning_Rush_Hour'] = df4['15_min_interval'].apply(lambda x: morning_rush_hour(x))\n",
    "df4['Evening_Rush_Hour'] = df4['15_min_interval'].apply(lambda x: evening_rush_hour(x))\n",
    "df4['first_linear'] = df4['15_min_interval'].apply(lambda x: first_linear(x))\n",
    "df4['third_model'] = df4['15_min_interval'].apply(lambda x: third_model(x))\n",
    "df4['last_model'] = df4['15_min_interval'].apply(lambda x: last_model(x))"
   ]
  },
  {
   "cell_type": "markdown",
   "metadata": {},
   "source": [
    "#### Step 4: Split Train/Test"
   ]
  },
  {
   "cell_type": "markdown",
   "metadata": {},
   "source": [
    "Becuase we assume there is no big difference among different months, I am going to split the train and test dataset by using Jan, Feb, March, April and May data as training dataset, June and July data as test set. "
   ]
  },
  {
   "cell_type": "code",
   "execution_count": 452,
   "metadata": {
    "collapsed": true
   },
   "outputs": [],
   "source": [
    "train_month = [1,2,3,4,5]\n",
    "test_month = [6,7]\n",
    "train = df4[df4['Month'].isin(train_month)].groupby(['15_min_interval','15_min_interval_count','Morning_Rush_Hour','Evening_Rush_Hour','first_linear','third_model','last_model'])['Count'].sum().reset_index()\n",
    "test = df4[df4['Month'].isin(test_month)].groupby(['15_min_interval','15_min_interval_count','Morning_Rush_Hour','Evening_Rush_Hour','first_linear','third_model','last_model'])['Count'].sum().reset_index()"
   ]
  },
  {
   "cell_type": "markdown",
   "metadata": {},
   "source": [
    "#### Step 5: Modeling"
   ]
  },
  {
   "cell_type": "code",
   "execution_count": 347,
   "metadata": {
    "collapsed": true
   },
   "outputs": [],
   "source": [
    "from sklearn import datasets, linear_model\n",
    "from sklearn.metrics import mean_squared_error, r2_score\n",
    "from random import randint"
   ]
  },
  {
   "cell_type": "code",
   "execution_count": 346,
   "metadata": {
    "collapsed": true
   },
   "outputs": [],
   "source": [
    "X_train = train[['15_min_interval_count','Morning_Rush_Hour','Evening_Rush_Hour','first_linear','third_model','last_model']]\n",
    "y_train = train['Count']\n",
    "\n",
    "X_test = test[['15_min_interval_count','Morning_Rush_Hour','Evening_Rush_Hour','first_linear','third_model','last_model']]\n",
    "y_test = test['Count']"
   ]
  },
  {
   "cell_type": "code",
   "execution_count": 576,
   "metadata": {
    "collapsed": true
   },
   "outputs": [],
   "source": [
    "model_order = ['first_linear','Morning_Rush_Hour','third_model','Evening_Rush_Hour','last_model']\n",
    "def build_models(method):\n",
    "    y_pred = []\n",
    "    y_true = []\n",
    "    adjust_value = len(test_month)/len(train_month)\n",
    "    \n",
    "    for item in model_order:\n",
    "        X_train = train[train[item] == 1][['15_min_interval_count']]\n",
    "        y_train = train[train[item] == 1]['Count']\n",
    "        X_test = test[test[item] == 1][['15_min_interval_count']]\n",
    "        y_test = test[test[item] == 1]['Count']\n",
    "        \n",
    "        #except for the 3rd model, all other models are linear regression models\n",
    "        if item != 'third_model':\n",
    "            # Create linear regression object\n",
    "            regr = linear_model.LinearRegression()\n",
    "            # Train the model using the training sets\n",
    "            regr.fit(X_train,y_train)\n",
    "            # Make predictions using the testing set\n",
    "            y_pred.extend(regr.predict(X_test) * adjust_value)\n",
    "            y_true.extend(y_test)\n",
    "        #the third model is a bounded distribution by maximum and minimum demand within this period\n",
    "        else:\n",
    "            if method == 'random':\n",
    "                maxi = int(y_train.max() * adjust_value)\n",
    "                mini = int(y_train.min() * adjust_value)\n",
    "                prediction = [randint(mini, maxi) for i in range(len(y_test))]\n",
    "            if method == 'median':\n",
    "                prediction = [y_train.median() * adjust_value] * len(y_test) \n",
    "            if method == \"mean\":\n",
    "                prediction = [y_train.mean() * adjust_value] * len(y_test)\n",
    "                \n",
    "            y_pred.extend(prediction)\n",
    "            y_true.extend(y_test)\n",
    "    return y_true, y_pred\n",
    "            \n",
    "            \n"
   ]
  },
  {
   "cell_type": "markdown",
   "metadata": {},
   "source": [
    "#### Step 6: Evaluate Model"
   ]
  },
  {
   "cell_type": "markdown",
   "metadata": {},
   "source": [
    "To evaluate the model, i calculated every four 15-min interval(1 hour) prediction, and use the mean-square as the evaluation metric. For example, starting from 00:00, given the demand on 00:00 which is 220, the prediction in the following 1 hour is [200,190,180,170] and the true demand is [215,200,198,180], so the mean square error will be sum(215 - 200 + 200 - 190 + 298 - 180 + 180 - 170) ** 2"
   ]
  },
  {
   "cell_type": "code",
   "execution_count": 607,
   "metadata": {
    "collapsed": true
   },
   "outputs": [],
   "source": [
    "def evaluate_model(true,pred):\n",
    "    total_error = 0\n",
    "    for i in range(1,len(true)-3):\n",
    "        diff = np.sum(true[i:i+4]) - np.sum(pred[i:i+4])\n",
    "        total_error += diff ** 2\n",
    "    return total_error/(len(true)-3)"
   ]
  },
  {
   "cell_type": "code",
   "execution_count": 608,
   "metadata": {
    "collapsed": true
   },
   "outputs": [],
   "source": [
    "method_list = [\"random\",\"median\",\"mean\"]\n",
    "error_list = []\n",
    "for method in method_list:\n",
    "    true = build_models(method)[0]\n",
    "    pred = build_models(method)[1]\n",
    "    error_list.append(evaluate_model(true,pred))\n"
   ]
  },
  {
   "cell_type": "code",
   "execution_count": 609,
   "metadata": {},
   "outputs": [
    {
     "data": {
      "text/plain": [
       "[7532.1354805583042, 5415.1617562517549, 5705.5106260836719]"
      ]
     },
     "execution_count": 609,
     "metadata": {},
     "output_type": "execute_result"
    }
   ],
   "source": [
    "error_list"
   ]
  },
  {
   "cell_type": "code",
   "execution_count": 605,
   "metadata": {
    "collapsed": true
   },
   "outputs": [],
   "source": [
    "method_list = [\"random\",\"median\",\"mean\"]\n",
    "error_list_new = []\n",
    "for method in method_list:\n",
    "    true = build_models(method)[0]\n",
    "    pred = build_models(method)[1]\n",
    "    error_list_new.append(mean_squared_error(true,pred))"
   ]
  },
  {
   "cell_type": "code",
   "execution_count": 606,
   "metadata": {},
   "outputs": [
    {
     "data": {
      "text/plain": [
       "[927.40817101577397, 630.20858768244079, 646.89781845167147]"
      ]
     },
     "execution_count": 606,
     "metadata": {},
     "output_type": "execute_result"
    }
   ],
   "source": [
    "error_list_new"
   ]
  },
  {
   "cell_type": "markdown",
   "metadata": {},
   "source": [
    "### Part 2: Programming"
   ]
  },
  {
   "cell_type": "markdown",
   "metadata": {},
   "source": [
    "Say we have a set of cuisines, each of which can be represented by a letter of the alphabet, and\n",
    "a set of dishes within each cuisine, each of which can be represented by a number. Each\n",
    "cuisine has a different number of possible dishes available. Note: this exercise needs to be\n",
    "completed without the use of library functions that perform the enumeration.\n",
    "A menu consists of a set of dishes chosen from the different cuisines. A menu can be\n",
    "represented by a list of dishes such as “A3 B11 C4”. Assume that each menu contains exactly\n",
    "one dish from each cuisine and all cuisines are included. Write a program that takes the number\n",
    "of cuisines and the number of dishes available within each cuisine as input and lists all possible\n",
    "menus as output."
   ]
  },
  {
   "cell_type": "code",
   "execution_count": 32,
   "metadata": {
    "collapsed": true
   },
   "outputs": [],
   "source": [
    "import string\n",
    "import numpy as np\n",
    "import math\n",
    "import random\n",
    "import itertools\n",
    "\n",
    "def menus(n_cuisin,n_dish):\n",
    "    #first check the inputs type\n",
    "    if type(n_cuisin) != int or type(n_dish) != list:\n",
    "        return \"Inputs have to be an integer and a list\"\n",
    "    else:\n",
    "        #check if inputs are empty\n",
    "        if len(n_dish) == 0:\n",
    "            return \"Cannot take empty list as input\"\n",
    "        else:\n",
    "            #n_cuisin has to be positive integer\n",
    "            if n_cuisin <= 0 or n_cuisin > 26:\n",
    "                return \"Number of cuisines has to be positive integer less or equal to 26\"\n",
    "            #n_dish has to be list of integers\n",
    "            if all(type(item) == int for item in n_dish) == False:\n",
    "                return \"n_dish has to be a list of integers\"\n",
    "            else:\n",
    "                #n_dish has to be a list that has the length equal to n_cuisin\n",
    "                if len(n_dish) != n_cuisin:\n",
    "                    return \"Number of dishes for each cuisin has to be the same as number of cuisin!\"\n",
    "                else:\n",
    "                    \n",
    "                    #theoratically calculate total number of available menus\n",
    "                    available_choices = np.product(n_dish)\n",
    "                    print(\"There are {} possible menus:\".format(int(available_choices)))\n",
    "                    \n",
    "                    #using alphet to represent each cuisin by alphet order\n",
    "                    cuisin_list = list(string.ascii_uppercase)[:n_cuisin]\n",
    "                    dish_comb = [[i for i in range(1,k+1)] for k in n_dish]\n",
    "\n",
    "                    menu_comb = []\n",
    "                    for c in cuisin_list:\n",
    "                        ix = cuisin_list.index(c)\n",
    "                        single_cuisin_comb = [\"\".join(map(str,[c,n])) for n in dish_comb[ix]]   \n",
    "                        menu_comb.append(single_cuisin_comb)  \n",
    "                    \n",
    "                    count = 0\n",
    "                    for m in list(itertools.product(*menu_comb)): \n",
    "                        print(m)\n",
    "                        count += 1\n",
    "                    #check if theoratically result is equal to the function calculation\n",
    "                    assert count == available_choices, \"Please check your function\"\n",
    "                    \n",
    "                \n",
    "                    \n",
    "                    \n",
    "                    \n",
    "                \n",
    "                "
   ]
  },
  {
   "cell_type": "code",
   "execution_count": 34,
   "metadata": {},
   "outputs": [
    {
     "data": {
      "text/plain": [
       "'Number of dishes for each cuisin has to be the same as number of cuisin!'"
      ]
     },
     "execution_count": 34,
     "metadata": {},
     "output_type": "execute_result"
    }
   ],
   "source": [
    "menus(5,[1,2,2])"
   ]
  },
  {
   "cell_type": "code",
   "execution_count": 35,
   "metadata": {},
   "outputs": [
    {
     "name": "stdout",
     "output_type": "stream",
     "text": [
      "There are 300 possible menus:\n",
      "('A1', 'B1', 'C1', 'D1', 'E1')\n",
      "('A1', 'B1', 'C1', 'D1', 'E2')\n",
      "('A1', 'B1', 'C1', 'D1', 'E3')\n",
      "('A1', 'B1', 'C1', 'D1', 'E4')\n",
      "('A1', 'B1', 'C1', 'D1', 'E5')\n",
      "('A1', 'B1', 'C1', 'D2', 'E1')\n",
      "('A1', 'B1', 'C1', 'D2', 'E2')\n",
      "('A1', 'B1', 'C1', 'D2', 'E3')\n",
      "('A1', 'B1', 'C1', 'D2', 'E4')\n",
      "('A1', 'B1', 'C1', 'D2', 'E5')\n",
      "('A1', 'B1', 'C1', 'D3', 'E1')\n",
      "('A1', 'B1', 'C1', 'D3', 'E2')\n",
      "('A1', 'B1', 'C1', 'D3', 'E3')\n",
      "('A1', 'B1', 'C1', 'D3', 'E4')\n",
      "('A1', 'B1', 'C1', 'D3', 'E5')\n",
      "('A1', 'B1', 'C2', 'D1', 'E1')\n",
      "('A1', 'B1', 'C2', 'D1', 'E2')\n",
      "('A1', 'B1', 'C2', 'D1', 'E3')\n",
      "('A1', 'B1', 'C2', 'D1', 'E4')\n",
      "('A1', 'B1', 'C2', 'D1', 'E5')\n",
      "('A1', 'B1', 'C2', 'D2', 'E1')\n",
      "('A1', 'B1', 'C2', 'D2', 'E2')\n",
      "('A1', 'B1', 'C2', 'D2', 'E3')\n",
      "('A1', 'B1', 'C2', 'D2', 'E4')\n",
      "('A1', 'B1', 'C2', 'D2', 'E5')\n",
      "('A1', 'B1', 'C2', 'D3', 'E1')\n",
      "('A1', 'B1', 'C2', 'D3', 'E2')\n",
      "('A1', 'B1', 'C2', 'D3', 'E3')\n",
      "('A1', 'B1', 'C2', 'D3', 'E4')\n",
      "('A1', 'B1', 'C2', 'D3', 'E5')\n",
      "('A1', 'B2', 'C1', 'D1', 'E1')\n",
      "('A1', 'B2', 'C1', 'D1', 'E2')\n",
      "('A1', 'B2', 'C1', 'D1', 'E3')\n",
      "('A1', 'B2', 'C1', 'D1', 'E4')\n",
      "('A1', 'B2', 'C1', 'D1', 'E5')\n",
      "('A1', 'B2', 'C1', 'D2', 'E1')\n",
      "('A1', 'B2', 'C1', 'D2', 'E2')\n",
      "('A1', 'B2', 'C1', 'D2', 'E3')\n",
      "('A1', 'B2', 'C1', 'D2', 'E4')\n",
      "('A1', 'B2', 'C1', 'D2', 'E5')\n",
      "('A1', 'B2', 'C1', 'D3', 'E1')\n",
      "('A1', 'B2', 'C1', 'D3', 'E2')\n",
      "('A1', 'B2', 'C1', 'D3', 'E3')\n",
      "('A1', 'B2', 'C1', 'D3', 'E4')\n",
      "('A1', 'B2', 'C1', 'D3', 'E5')\n",
      "('A1', 'B2', 'C2', 'D1', 'E1')\n",
      "('A1', 'B2', 'C2', 'D1', 'E2')\n",
      "('A1', 'B2', 'C2', 'D1', 'E3')\n",
      "('A1', 'B2', 'C2', 'D1', 'E4')\n",
      "('A1', 'B2', 'C2', 'D1', 'E5')\n",
      "('A1', 'B2', 'C2', 'D2', 'E1')\n",
      "('A1', 'B2', 'C2', 'D2', 'E2')\n",
      "('A1', 'B2', 'C2', 'D2', 'E3')\n",
      "('A1', 'B2', 'C2', 'D2', 'E4')\n",
      "('A1', 'B2', 'C2', 'D2', 'E5')\n",
      "('A1', 'B2', 'C2', 'D3', 'E1')\n",
      "('A1', 'B2', 'C2', 'D3', 'E2')\n",
      "('A1', 'B2', 'C2', 'D3', 'E3')\n",
      "('A1', 'B2', 'C2', 'D3', 'E4')\n",
      "('A1', 'B2', 'C2', 'D3', 'E5')\n",
      "('A1', 'B3', 'C1', 'D1', 'E1')\n",
      "('A1', 'B3', 'C1', 'D1', 'E2')\n",
      "('A1', 'B3', 'C1', 'D1', 'E3')\n",
      "('A1', 'B3', 'C1', 'D1', 'E4')\n",
      "('A1', 'B3', 'C1', 'D1', 'E5')\n",
      "('A1', 'B3', 'C1', 'D2', 'E1')\n",
      "('A1', 'B3', 'C1', 'D2', 'E2')\n",
      "('A1', 'B3', 'C1', 'D2', 'E3')\n",
      "('A1', 'B3', 'C1', 'D2', 'E4')\n",
      "('A1', 'B3', 'C1', 'D2', 'E5')\n",
      "('A1', 'B3', 'C1', 'D3', 'E1')\n",
      "('A1', 'B3', 'C1', 'D3', 'E2')\n",
      "('A1', 'B3', 'C1', 'D3', 'E3')\n",
      "('A1', 'B3', 'C1', 'D3', 'E4')\n",
      "('A1', 'B3', 'C1', 'D3', 'E5')\n",
      "('A1', 'B3', 'C2', 'D1', 'E1')\n",
      "('A1', 'B3', 'C2', 'D1', 'E2')\n",
      "('A1', 'B3', 'C2', 'D1', 'E3')\n",
      "('A1', 'B3', 'C2', 'D1', 'E4')\n",
      "('A1', 'B3', 'C2', 'D1', 'E5')\n",
      "('A1', 'B3', 'C2', 'D2', 'E1')\n",
      "('A1', 'B3', 'C2', 'D2', 'E2')\n",
      "('A1', 'B3', 'C2', 'D2', 'E3')\n",
      "('A1', 'B3', 'C2', 'D2', 'E4')\n",
      "('A1', 'B3', 'C2', 'D2', 'E5')\n",
      "('A1', 'B3', 'C2', 'D3', 'E1')\n",
      "('A1', 'B3', 'C2', 'D3', 'E2')\n",
      "('A1', 'B3', 'C2', 'D3', 'E3')\n",
      "('A1', 'B3', 'C2', 'D3', 'E4')\n",
      "('A1', 'B3', 'C2', 'D3', 'E5')\n",
      "('A1', 'B4', 'C1', 'D1', 'E1')\n",
      "('A1', 'B4', 'C1', 'D1', 'E2')\n",
      "('A1', 'B4', 'C1', 'D1', 'E3')\n",
      "('A1', 'B4', 'C1', 'D1', 'E4')\n",
      "('A1', 'B4', 'C1', 'D1', 'E5')\n",
      "('A1', 'B4', 'C1', 'D2', 'E1')\n",
      "('A1', 'B4', 'C1', 'D2', 'E2')\n",
      "('A1', 'B4', 'C1', 'D2', 'E3')\n",
      "('A1', 'B4', 'C1', 'D2', 'E4')\n",
      "('A1', 'B4', 'C1', 'D2', 'E5')\n",
      "('A1', 'B4', 'C1', 'D3', 'E1')\n",
      "('A1', 'B4', 'C1', 'D3', 'E2')\n",
      "('A1', 'B4', 'C1', 'D3', 'E3')\n",
      "('A1', 'B4', 'C1', 'D3', 'E4')\n",
      "('A1', 'B4', 'C1', 'D3', 'E5')\n",
      "('A1', 'B4', 'C2', 'D1', 'E1')\n",
      "('A1', 'B4', 'C2', 'D1', 'E2')\n",
      "('A1', 'B4', 'C2', 'D1', 'E3')\n",
      "('A1', 'B4', 'C2', 'D1', 'E4')\n",
      "('A1', 'B4', 'C2', 'D1', 'E5')\n",
      "('A1', 'B4', 'C2', 'D2', 'E1')\n",
      "('A1', 'B4', 'C2', 'D2', 'E2')\n",
      "('A1', 'B4', 'C2', 'D2', 'E3')\n",
      "('A1', 'B4', 'C2', 'D2', 'E4')\n",
      "('A1', 'B4', 'C2', 'D2', 'E5')\n",
      "('A1', 'B4', 'C2', 'D3', 'E1')\n",
      "('A1', 'B4', 'C2', 'D3', 'E2')\n",
      "('A1', 'B4', 'C2', 'D3', 'E3')\n",
      "('A1', 'B4', 'C2', 'D3', 'E4')\n",
      "('A1', 'B4', 'C2', 'D3', 'E5')\n",
      "('A1', 'B5', 'C1', 'D1', 'E1')\n",
      "('A1', 'B5', 'C1', 'D1', 'E2')\n",
      "('A1', 'B5', 'C1', 'D1', 'E3')\n",
      "('A1', 'B5', 'C1', 'D1', 'E4')\n",
      "('A1', 'B5', 'C1', 'D1', 'E5')\n",
      "('A1', 'B5', 'C1', 'D2', 'E1')\n",
      "('A1', 'B5', 'C1', 'D2', 'E2')\n",
      "('A1', 'B5', 'C1', 'D2', 'E3')\n",
      "('A1', 'B5', 'C1', 'D2', 'E4')\n",
      "('A1', 'B5', 'C1', 'D2', 'E5')\n",
      "('A1', 'B5', 'C1', 'D3', 'E1')\n",
      "('A1', 'B5', 'C1', 'D3', 'E2')\n",
      "('A1', 'B5', 'C1', 'D3', 'E3')\n",
      "('A1', 'B5', 'C1', 'D3', 'E4')\n",
      "('A1', 'B5', 'C1', 'D3', 'E5')\n",
      "('A1', 'B5', 'C2', 'D1', 'E1')\n",
      "('A1', 'B5', 'C2', 'D1', 'E2')\n",
      "('A1', 'B5', 'C2', 'D1', 'E3')\n",
      "('A1', 'B5', 'C2', 'D1', 'E4')\n",
      "('A1', 'B5', 'C2', 'D1', 'E5')\n",
      "('A1', 'B5', 'C2', 'D2', 'E1')\n",
      "('A1', 'B5', 'C2', 'D2', 'E2')\n",
      "('A1', 'B5', 'C2', 'D2', 'E3')\n",
      "('A1', 'B5', 'C2', 'D2', 'E4')\n",
      "('A1', 'B5', 'C2', 'D2', 'E5')\n",
      "('A1', 'B5', 'C2', 'D3', 'E1')\n",
      "('A1', 'B5', 'C2', 'D3', 'E2')\n",
      "('A1', 'B5', 'C2', 'D3', 'E3')\n",
      "('A1', 'B5', 'C2', 'D3', 'E4')\n",
      "('A1', 'B5', 'C2', 'D3', 'E5')\n",
      "('A2', 'B1', 'C1', 'D1', 'E1')\n",
      "('A2', 'B1', 'C1', 'D1', 'E2')\n",
      "('A2', 'B1', 'C1', 'D1', 'E3')\n",
      "('A2', 'B1', 'C1', 'D1', 'E4')\n",
      "('A2', 'B1', 'C1', 'D1', 'E5')\n",
      "('A2', 'B1', 'C1', 'D2', 'E1')\n",
      "('A2', 'B1', 'C1', 'D2', 'E2')\n",
      "('A2', 'B1', 'C1', 'D2', 'E3')\n",
      "('A2', 'B1', 'C1', 'D2', 'E4')\n",
      "('A2', 'B1', 'C1', 'D2', 'E5')\n",
      "('A2', 'B1', 'C1', 'D3', 'E1')\n",
      "('A2', 'B1', 'C1', 'D3', 'E2')\n",
      "('A2', 'B1', 'C1', 'D3', 'E3')\n",
      "('A2', 'B1', 'C1', 'D3', 'E4')\n",
      "('A2', 'B1', 'C1', 'D3', 'E5')\n",
      "('A2', 'B1', 'C2', 'D1', 'E1')\n",
      "('A2', 'B1', 'C2', 'D1', 'E2')\n",
      "('A2', 'B1', 'C2', 'D1', 'E3')\n",
      "('A2', 'B1', 'C2', 'D1', 'E4')\n",
      "('A2', 'B1', 'C2', 'D1', 'E5')\n",
      "('A2', 'B1', 'C2', 'D2', 'E1')\n",
      "('A2', 'B1', 'C2', 'D2', 'E2')\n",
      "('A2', 'B1', 'C2', 'D2', 'E3')\n",
      "('A2', 'B1', 'C2', 'D2', 'E4')\n",
      "('A2', 'B1', 'C2', 'D2', 'E5')\n",
      "('A2', 'B1', 'C2', 'D3', 'E1')\n",
      "('A2', 'B1', 'C2', 'D3', 'E2')\n",
      "('A2', 'B1', 'C2', 'D3', 'E3')\n",
      "('A2', 'B1', 'C2', 'D3', 'E4')\n",
      "('A2', 'B1', 'C2', 'D3', 'E5')\n",
      "('A2', 'B2', 'C1', 'D1', 'E1')\n",
      "('A2', 'B2', 'C1', 'D1', 'E2')\n",
      "('A2', 'B2', 'C1', 'D1', 'E3')\n",
      "('A2', 'B2', 'C1', 'D1', 'E4')\n",
      "('A2', 'B2', 'C1', 'D1', 'E5')\n",
      "('A2', 'B2', 'C1', 'D2', 'E1')\n",
      "('A2', 'B2', 'C1', 'D2', 'E2')\n",
      "('A2', 'B2', 'C1', 'D2', 'E3')\n",
      "('A2', 'B2', 'C1', 'D2', 'E4')\n",
      "('A2', 'B2', 'C1', 'D2', 'E5')\n",
      "('A2', 'B2', 'C1', 'D3', 'E1')\n",
      "('A2', 'B2', 'C1', 'D3', 'E2')\n",
      "('A2', 'B2', 'C1', 'D3', 'E3')\n",
      "('A2', 'B2', 'C1', 'D3', 'E4')\n",
      "('A2', 'B2', 'C1', 'D3', 'E5')\n",
      "('A2', 'B2', 'C2', 'D1', 'E1')\n",
      "('A2', 'B2', 'C2', 'D1', 'E2')\n",
      "('A2', 'B2', 'C2', 'D1', 'E3')\n",
      "('A2', 'B2', 'C2', 'D1', 'E4')\n",
      "('A2', 'B2', 'C2', 'D1', 'E5')\n",
      "('A2', 'B2', 'C2', 'D2', 'E1')\n",
      "('A2', 'B2', 'C2', 'D2', 'E2')\n",
      "('A2', 'B2', 'C2', 'D2', 'E3')\n",
      "('A2', 'B2', 'C2', 'D2', 'E4')\n",
      "('A2', 'B2', 'C2', 'D2', 'E5')\n",
      "('A2', 'B2', 'C2', 'D3', 'E1')\n",
      "('A2', 'B2', 'C2', 'D3', 'E2')\n",
      "('A2', 'B2', 'C2', 'D3', 'E3')\n",
      "('A2', 'B2', 'C2', 'D3', 'E4')\n",
      "('A2', 'B2', 'C2', 'D3', 'E5')\n",
      "('A2', 'B3', 'C1', 'D1', 'E1')\n",
      "('A2', 'B3', 'C1', 'D1', 'E2')\n",
      "('A2', 'B3', 'C1', 'D1', 'E3')\n",
      "('A2', 'B3', 'C1', 'D1', 'E4')\n",
      "('A2', 'B3', 'C1', 'D1', 'E5')\n",
      "('A2', 'B3', 'C1', 'D2', 'E1')\n",
      "('A2', 'B3', 'C1', 'D2', 'E2')\n",
      "('A2', 'B3', 'C1', 'D2', 'E3')\n",
      "('A2', 'B3', 'C1', 'D2', 'E4')\n",
      "('A2', 'B3', 'C1', 'D2', 'E5')\n",
      "('A2', 'B3', 'C1', 'D3', 'E1')\n",
      "('A2', 'B3', 'C1', 'D3', 'E2')\n",
      "('A2', 'B3', 'C1', 'D3', 'E3')\n",
      "('A2', 'B3', 'C1', 'D3', 'E4')\n",
      "('A2', 'B3', 'C1', 'D3', 'E5')\n",
      "('A2', 'B3', 'C2', 'D1', 'E1')\n",
      "('A2', 'B3', 'C2', 'D1', 'E2')\n",
      "('A2', 'B3', 'C2', 'D1', 'E3')\n",
      "('A2', 'B3', 'C2', 'D1', 'E4')\n",
      "('A2', 'B3', 'C2', 'D1', 'E5')\n",
      "('A2', 'B3', 'C2', 'D2', 'E1')\n",
      "('A2', 'B3', 'C2', 'D2', 'E2')\n",
      "('A2', 'B3', 'C2', 'D2', 'E3')\n",
      "('A2', 'B3', 'C2', 'D2', 'E4')\n",
      "('A2', 'B3', 'C2', 'D2', 'E5')\n",
      "('A2', 'B3', 'C2', 'D3', 'E1')\n",
      "('A2', 'B3', 'C2', 'D3', 'E2')\n",
      "('A2', 'B3', 'C2', 'D3', 'E3')\n",
      "('A2', 'B3', 'C2', 'D3', 'E4')\n",
      "('A2', 'B3', 'C2', 'D3', 'E5')\n",
      "('A2', 'B4', 'C1', 'D1', 'E1')\n",
      "('A2', 'B4', 'C1', 'D1', 'E2')\n",
      "('A2', 'B4', 'C1', 'D1', 'E3')\n",
      "('A2', 'B4', 'C1', 'D1', 'E4')\n",
      "('A2', 'B4', 'C1', 'D1', 'E5')\n",
      "('A2', 'B4', 'C1', 'D2', 'E1')\n",
      "('A2', 'B4', 'C1', 'D2', 'E2')\n",
      "('A2', 'B4', 'C1', 'D2', 'E3')\n",
      "('A2', 'B4', 'C1', 'D2', 'E4')\n",
      "('A2', 'B4', 'C1', 'D2', 'E5')\n",
      "('A2', 'B4', 'C1', 'D3', 'E1')\n",
      "('A2', 'B4', 'C1', 'D3', 'E2')\n",
      "('A2', 'B4', 'C1', 'D3', 'E3')\n",
      "('A2', 'B4', 'C1', 'D3', 'E4')\n",
      "('A2', 'B4', 'C1', 'D3', 'E5')\n",
      "('A2', 'B4', 'C2', 'D1', 'E1')\n",
      "('A2', 'B4', 'C2', 'D1', 'E2')\n",
      "('A2', 'B4', 'C2', 'D1', 'E3')\n",
      "('A2', 'B4', 'C2', 'D1', 'E4')\n",
      "('A2', 'B4', 'C2', 'D1', 'E5')\n",
      "('A2', 'B4', 'C2', 'D2', 'E1')\n",
      "('A2', 'B4', 'C2', 'D2', 'E2')\n",
      "('A2', 'B4', 'C2', 'D2', 'E3')\n",
      "('A2', 'B4', 'C2', 'D2', 'E4')\n",
      "('A2', 'B4', 'C2', 'D2', 'E5')\n",
      "('A2', 'B4', 'C2', 'D3', 'E1')\n",
      "('A2', 'B4', 'C2', 'D3', 'E2')\n",
      "('A2', 'B4', 'C2', 'D3', 'E3')\n",
      "('A2', 'B4', 'C2', 'D3', 'E4')\n",
      "('A2', 'B4', 'C2', 'D3', 'E5')\n",
      "('A2', 'B5', 'C1', 'D1', 'E1')\n",
      "('A2', 'B5', 'C1', 'D1', 'E2')\n",
      "('A2', 'B5', 'C1', 'D1', 'E3')\n",
      "('A2', 'B5', 'C1', 'D1', 'E4')\n",
      "('A2', 'B5', 'C1', 'D1', 'E5')\n",
      "('A2', 'B5', 'C1', 'D2', 'E1')\n",
      "('A2', 'B5', 'C1', 'D2', 'E2')\n",
      "('A2', 'B5', 'C1', 'D2', 'E3')\n",
      "('A2', 'B5', 'C1', 'D2', 'E4')\n",
      "('A2', 'B5', 'C1', 'D2', 'E5')\n",
      "('A2', 'B5', 'C1', 'D3', 'E1')\n",
      "('A2', 'B5', 'C1', 'D3', 'E2')\n",
      "('A2', 'B5', 'C1', 'D3', 'E3')\n",
      "('A2', 'B5', 'C1', 'D3', 'E4')\n",
      "('A2', 'B5', 'C1', 'D3', 'E5')\n",
      "('A2', 'B5', 'C2', 'D1', 'E1')\n",
      "('A2', 'B5', 'C2', 'D1', 'E2')\n",
      "('A2', 'B5', 'C2', 'D1', 'E3')\n",
      "('A2', 'B5', 'C2', 'D1', 'E4')\n",
      "('A2', 'B5', 'C2', 'D1', 'E5')\n",
      "('A2', 'B5', 'C2', 'D2', 'E1')\n",
      "('A2', 'B5', 'C2', 'D2', 'E2')\n",
      "('A2', 'B5', 'C2', 'D2', 'E3')\n",
      "('A2', 'B5', 'C2', 'D2', 'E4')\n",
      "('A2', 'B5', 'C2', 'D2', 'E5')\n",
      "('A2', 'B5', 'C2', 'D3', 'E1')\n",
      "('A2', 'B5', 'C2', 'D3', 'E2')\n",
      "('A2', 'B5', 'C2', 'D3', 'E3')\n",
      "('A2', 'B5', 'C2', 'D3', 'E4')\n",
      "('A2', 'B5', 'C2', 'D3', 'E5')\n"
     ]
    }
   ],
   "source": [
    "menus(5,[2,5,2,3,5])"
   ]
  },
  {
   "cell_type": "code",
   "execution_count": null,
   "metadata": {
    "collapsed": true
   },
   "outputs": [],
   "source": []
  }
 ],
 "metadata": {
  "kernelspec": {
   "display_name": "Python 3",
   "language": "python",
   "name": "python3"
  },
  "language_info": {
   "codemirror_mode": {
    "name": "ipython",
    "version": 3
   },
   "file_extension": ".py",
   "mimetype": "text/x-python",
   "name": "python",
   "nbconvert_exporter": "python",
   "pygments_lexer": "ipython3",
   "version": "3.6.0"
  }
 },
 "nbformat": 4,
 "nbformat_minor": 2
}
